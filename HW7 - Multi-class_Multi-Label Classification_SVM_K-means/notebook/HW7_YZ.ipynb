{
 "cells": [
  {
   "cell_type": "markdown",
   "metadata": {},
   "source": [
    "Yunyi Zhang<br>\n",
    "USC ID: 7518630167"
   ]
  },
  {
   "cell_type": "code",
   "execution_count": 242,
   "metadata": {},
   "outputs": [],
   "source": [
    "import pandas as pd\n",
    "import numpy as np\n",
    "from sklearn import svm\n",
    "from sklearn.preprocessing import LabelEncoder\n",
    "from sklearn.model_selection import GridSearchCV\n",
    "from sklearn.preprocessing import StandardScaler\n",
    "from sklearn.svm import LinearSVC\n",
    "from sklearn.metrics import accuracy_score, silhouette_score\n",
    "from imblearn.over_sampling import SMOTE\n",
    "from imblearn.pipeline import Pipeline\n",
    "from sklearn.cluster import KMeans\n",
    "from sklearn.metrics import hamming_loss as sk_hamming_loss\n",
    "from scipy.spatial.distance import squareform\n",
    "from scipy.cluster.hierarchy import linkage, dendrogram\n",
    "import matplotlib.pyplot as plt"
   ]
  },
  {
   "cell_type": "markdown",
   "metadata": {},
   "source": [
    "## 1. Multi-class and Multi-Label Classification Using Support Vector Machines"
   ]
  },
  {
   "cell_type": "code",
   "execution_count": 156,
   "metadata": {},
   "outputs": [
    {
     "data": {
      "text/html": [
       "<div>\n",
       "<style scoped>\n",
       "    .dataframe tbody tr th:only-of-type {\n",
       "        vertical-align: middle;\n",
       "    }\n",
       "\n",
       "    .dataframe tbody tr th {\n",
       "        vertical-align: top;\n",
       "    }\n",
       "\n",
       "    .dataframe thead th {\n",
       "        text-align: right;\n",
       "    }\n",
       "</style>\n",
       "<table border=\"1\" class=\"dataframe\">\n",
       "  <thead>\n",
       "    <tr style=\"text-align: right;\">\n",
       "      <th></th>\n",
       "      <th>MFCCs_ 1</th>\n",
       "      <th>MFCCs_ 2</th>\n",
       "      <th>MFCCs_ 3</th>\n",
       "      <th>MFCCs_ 4</th>\n",
       "      <th>MFCCs_ 5</th>\n",
       "      <th>MFCCs_ 6</th>\n",
       "      <th>MFCCs_ 7</th>\n",
       "      <th>MFCCs_ 8</th>\n",
       "      <th>MFCCs_ 9</th>\n",
       "      <th>MFCCs_10</th>\n",
       "      <th>...</th>\n",
       "      <th>MFCCs_17</th>\n",
       "      <th>MFCCs_18</th>\n",
       "      <th>MFCCs_19</th>\n",
       "      <th>MFCCs_20</th>\n",
       "      <th>MFCCs_21</th>\n",
       "      <th>MFCCs_22</th>\n",
       "      <th>RecordID</th>\n",
       "      <th>Family_Encoded</th>\n",
       "      <th>Genus_Encoded</th>\n",
       "      <th>Species_Encoded</th>\n",
       "    </tr>\n",
       "  </thead>\n",
       "  <tbody>\n",
       "    <tr>\n",
       "      <th>0</th>\n",
       "      <td>1.0</td>\n",
       "      <td>0.152936</td>\n",
       "      <td>-0.105586</td>\n",
       "      <td>0.200722</td>\n",
       "      <td>0.317201</td>\n",
       "      <td>0.260764</td>\n",
       "      <td>0.100945</td>\n",
       "      <td>-0.150063</td>\n",
       "      <td>-0.171128</td>\n",
       "      <td>0.124676</td>\n",
       "      <td>...</td>\n",
       "      <td>-0.108351</td>\n",
       "      <td>-0.077623</td>\n",
       "      <td>-0.009568</td>\n",
       "      <td>0.057684</td>\n",
       "      <td>0.118680</td>\n",
       "      <td>0.014038</td>\n",
       "      <td>1</td>\n",
       "      <td>3</td>\n",
       "      <td>0</td>\n",
       "      <td>0</td>\n",
       "    </tr>\n",
       "    <tr>\n",
       "      <th>1</th>\n",
       "      <td>1.0</td>\n",
       "      <td>0.171534</td>\n",
       "      <td>-0.098975</td>\n",
       "      <td>0.268425</td>\n",
       "      <td>0.338672</td>\n",
       "      <td>0.268353</td>\n",
       "      <td>0.060835</td>\n",
       "      <td>-0.222475</td>\n",
       "      <td>-0.207693</td>\n",
       "      <td>0.170883</td>\n",
       "      <td>...</td>\n",
       "      <td>-0.090974</td>\n",
       "      <td>-0.056510</td>\n",
       "      <td>-0.035303</td>\n",
       "      <td>0.020140</td>\n",
       "      <td>0.082263</td>\n",
       "      <td>0.029056</td>\n",
       "      <td>1</td>\n",
       "      <td>3</td>\n",
       "      <td>0</td>\n",
       "      <td>0</td>\n",
       "    </tr>\n",
       "    <tr>\n",
       "      <th>2</th>\n",
       "      <td>1.0</td>\n",
       "      <td>0.152317</td>\n",
       "      <td>-0.082973</td>\n",
       "      <td>0.287128</td>\n",
       "      <td>0.276014</td>\n",
       "      <td>0.189867</td>\n",
       "      <td>0.008714</td>\n",
       "      <td>-0.242234</td>\n",
       "      <td>-0.219153</td>\n",
       "      <td>0.232538</td>\n",
       "      <td>...</td>\n",
       "      <td>-0.050691</td>\n",
       "      <td>-0.023590</td>\n",
       "      <td>-0.066722</td>\n",
       "      <td>-0.025083</td>\n",
       "      <td>0.099108</td>\n",
       "      <td>0.077162</td>\n",
       "      <td>1</td>\n",
       "      <td>3</td>\n",
       "      <td>0</td>\n",
       "      <td>0</td>\n",
       "    </tr>\n",
       "    <tr>\n",
       "      <th>3</th>\n",
       "      <td>1.0</td>\n",
       "      <td>0.224392</td>\n",
       "      <td>0.118985</td>\n",
       "      <td>0.329432</td>\n",
       "      <td>0.372088</td>\n",
       "      <td>0.361005</td>\n",
       "      <td>0.015501</td>\n",
       "      <td>-0.194347</td>\n",
       "      <td>-0.098181</td>\n",
       "      <td>0.270375</td>\n",
       "      <td>...</td>\n",
       "      <td>-0.136009</td>\n",
       "      <td>-0.177037</td>\n",
       "      <td>-0.130498</td>\n",
       "      <td>-0.054766</td>\n",
       "      <td>-0.018691</td>\n",
       "      <td>0.023954</td>\n",
       "      <td>1</td>\n",
       "      <td>3</td>\n",
       "      <td>0</td>\n",
       "      <td>0</td>\n",
       "    </tr>\n",
       "    <tr>\n",
       "      <th>4</th>\n",
       "      <td>1.0</td>\n",
       "      <td>0.087817</td>\n",
       "      <td>-0.068345</td>\n",
       "      <td>0.306967</td>\n",
       "      <td>0.330923</td>\n",
       "      <td>0.249144</td>\n",
       "      <td>0.006884</td>\n",
       "      <td>-0.265423</td>\n",
       "      <td>-0.172700</td>\n",
       "      <td>0.266434</td>\n",
       "      <td>...</td>\n",
       "      <td>-0.048885</td>\n",
       "      <td>-0.053074</td>\n",
       "      <td>-0.088550</td>\n",
       "      <td>-0.031346</td>\n",
       "      <td>0.108610</td>\n",
       "      <td>0.079244</td>\n",
       "      <td>1</td>\n",
       "      <td>3</td>\n",
       "      <td>0</td>\n",
       "      <td>0</td>\n",
       "    </tr>\n",
       "  </tbody>\n",
       "</table>\n",
       "<p>5 rows × 26 columns</p>\n",
       "</div>"
      ],
      "text/plain": [
       "   MFCCs_ 1  MFCCs_ 2  MFCCs_ 3  MFCCs_ 4  MFCCs_ 5  MFCCs_ 6  MFCCs_ 7  \\\n",
       "0       1.0  0.152936 -0.105586  0.200722  0.317201  0.260764  0.100945   \n",
       "1       1.0  0.171534 -0.098975  0.268425  0.338672  0.268353  0.060835   \n",
       "2       1.0  0.152317 -0.082973  0.287128  0.276014  0.189867  0.008714   \n",
       "3       1.0  0.224392  0.118985  0.329432  0.372088  0.361005  0.015501   \n",
       "4       1.0  0.087817 -0.068345  0.306967  0.330923  0.249144  0.006884   \n",
       "\n",
       "   MFCCs_ 8  MFCCs_ 9  MFCCs_10  ...  MFCCs_17  MFCCs_18  MFCCs_19  MFCCs_20  \\\n",
       "0 -0.150063 -0.171128  0.124676  ... -0.108351 -0.077623 -0.009568  0.057684   \n",
       "1 -0.222475 -0.207693  0.170883  ... -0.090974 -0.056510 -0.035303  0.020140   \n",
       "2 -0.242234 -0.219153  0.232538  ... -0.050691 -0.023590 -0.066722 -0.025083   \n",
       "3 -0.194347 -0.098181  0.270375  ... -0.136009 -0.177037 -0.130498 -0.054766   \n",
       "4 -0.265423 -0.172700  0.266434  ... -0.048885 -0.053074 -0.088550 -0.031346   \n",
       "\n",
       "   MFCCs_21  MFCCs_22  RecordID  Family_Encoded  Genus_Encoded  \\\n",
       "0  0.118680  0.014038         1               3              0   \n",
       "1  0.082263  0.029056         1               3              0   \n",
       "2  0.099108  0.077162         1               3              0   \n",
       "3 -0.018691  0.023954         1               3              0   \n",
       "4  0.108610  0.079244         1               3              0   \n",
       "\n",
       "   Species_Encoded  \n",
       "0                0  \n",
       "1                0  \n",
       "2                0  \n",
       "3                0  \n",
       "4                0  \n",
       "\n",
       "[5 rows x 26 columns]"
      ]
     },
     "execution_count": 156,
     "metadata": {},
     "output_type": "execute_result"
    }
   ],
   "source": [
    "data = pd.read_csv('../HW7Data/Frogs_MFCCs.csv')\n",
    "\n",
    "le_family = LabelEncoder()\n",
    "le_genus = LabelEncoder()\n",
    "le_species = LabelEncoder()\n",
    "\n",
    "data['Family_Encoded'] = le_family.fit_transform(data['Family'])\n",
    "data['Genus_Encoded'] = le_family.fit_transform(data['Genus'])\n",
    "data['Species_Encoded'] = le_family.fit_transform(data['Species'])\n",
    "\n",
    "data.drop(columns=['Family', 'Genus', 'Species'], inplace=True)\n",
    "data.head()"
   ]
  },
  {
   "cell_type": "code",
   "execution_count": 157,
   "metadata": {},
   "outputs": [],
   "source": [
    "seed = 3\n",
    "\n",
    "train_set = data.sample(frac=0.7, random_state=seed)\n",
    "test_set = data.drop(train_set.index)\n",
    "\n",
    "X_train = train_set.iloc[:,:-4]\n",
    "X_test = test_set.iloc[:,:-4]\n",
    "\n",
    "yf_train=train_set['Family_Encoded']\n",
    "yg_train=train_set['Genus_Encoded']\n",
    "ys_train=train_set['Species_Encoded']\n",
    "\n",
    "\n",
    "yf_test=test_set['Family_Encoded']\n",
    "yg_test=test_set['Genus_Encoded']\n",
    "ys_test=test_set['Species_Encoded']\n",
    "y_test_combine=test_set[['Family_Encoded','Genus_Encoded','Species_Encoded']]"
   ]
  },
  {
   "cell_type": "markdown",
   "metadata": {},
   "source": [
    "(b) Each instance has three labels: Families, Genus, and Species. Each of the labels has multiple classes. We wish to solve a multi-class and multi-label problem.<br>\n",
    "One of the most important approaches to multi-label classification is to train a classifier for each label (binary relevance). We first try this approach:<br>\n",
    "i. Research exact match and hamming score/ loss methods for evaluating multilabel classification and use them in evaluating the classifiers in this problem.<br>"
   ]
  },
  {
   "cell_type": "markdown",
   "metadata": {},
   "source": [
    "1. **Exact Match Ratio**: just ignore partially correct (consider them incorrect) and extend the accuracy used in single label case for multi-label prediction\n",
    "2. **Hamming Loss**: It reports how many times on average, the relevance of an example to a class label is incorrectly predicted. Therefore, hamming loss takes into account the prediction error (an incorrect label is predicted) and missing error (a relevant label not predicted), normalized over total number of classes and total number of examples. Ideally, we would expect the hamming loss to be 0, which would imply no error; practically the smaller the value of hamming loss, the better the performance of the learning algorithm.\n",
    "\n",
    "For binary classification, hamming loss = 1- accuracy\n",
    "\n",
    "Reference: https://mmuratarat.github.io/2020-01-25/multilabel_classification_metrics"
   ]
  },
  {
   "cell_type": "markdown",
   "metadata": {},
   "source": [
    "ii. Train a SVM for each of the labels, using Gaussian kernels and one versus all classifiers. Determine the weight of the SVM penalty and the width of the Gaussian Kernel using 10 fold cross validation.1 You are welcome to try to solve the problem with both standardized 2 and raw attributes and report the results.\n",
    "\n",
    "One-vs-Rest and One-vs-One for Multi-Class Classification: https://machinelearningmastery.com/one-vs-rest-and-one-vs-one-for-multi-class-classification/\n",
    "- The One-vs-Rest strategy splits a multi-class classification into one binary classification problem per class.\n",
    "- The One-vs-One strategy splits a multi-class classification into one binary classification problem per each pair of classes.\n",
    "\n",
    "SVC penalty ref: https://medium.com/all-things-ai/in-depth-parameter-tuning-for-svc-758215394769"
   ]
  },
  {
   "cell_type": "code",
   "execution_count": 158,
   "metadata": {},
   "outputs": [],
   "source": [
    "# Gaussian kernel -> RBF kernel\n",
    "svc = svm.SVC()\n",
    "parameters_base = {'decision_function_shape':['ovr'],\n",
    "                   'kernel':['rbf'],\n",
    "                   'C':[10**n for n in range(-2,3)],\n",
    "                   'gamma':[10**n for n in range(-2,3)]}"
   ]
  },
  {
   "cell_type": "code",
   "execution_count": 159,
   "metadata": {},
   "outputs": [],
   "source": [
    "def find_best_param_range(X_train, y_train):\n",
    "    grid_search = GridSearchCV(estimator=svc, \n",
    "                                param_grid=parameters_base, \n",
    "                                scoring = 'accuracy', \n",
    "                                cv= 10)\n",
    "    grid_search.fit(X_train, y_train)\n",
    "    results_df = pd.DataFrame(grid_search.cv_results_)[['param_C','param_gamma','mean_test_score']]\n",
    "    results_range_df = results_df[results_df['mean_test_score']>0.8]\n",
    "\n",
    "    print(results_range_df)"
   ]
  },
  {
   "cell_type": "markdown",
   "metadata": {},
   "source": [
    "**First step, find the range for best SVC penalty and Gaussian Kernel width.**"
   ]
  },
  {
   "cell_type": "code",
   "execution_count": 160,
   "metadata": {},
   "outputs": [
    {
     "name": "stdout",
     "output_type": "stream",
     "text": [
      "   param_C param_gamma  mean_test_score\n",
      "2     0.01           1         0.861599\n",
      "6      0.1         0.1         0.868747\n",
      "7      0.1           1         0.960884\n",
      "8      0.1          10         0.972004\n",
      "10       1        0.01         0.868749\n",
      "11       1         0.1         0.942418\n",
      "12       1           1         0.984710\n",
      "13       1          10         0.984911\n",
      "15      10        0.01         0.932690\n",
      "16      10         0.1         0.969226\n",
      "17      10           1         0.990271\n",
      "18      10          10         0.985308\n",
      "19      10         100         0.804019\n",
      "20     100        0.01         0.949172\n",
      "21     100         0.1         0.983918\n",
      "22     100           1         0.991066\n",
      "23     100          10         0.985308\n",
      "24     100         100         0.804019\n"
     ]
    }
   ],
   "source": [
    "find_best_param_range(X_train, yf_train)"
   ]
  },
  {
   "cell_type": "code",
   "execution_count": 161,
   "metadata": {},
   "outputs": [
    {
     "name": "stdout",
     "output_type": "stream",
     "text": [
      "   param_C param_gamma  mean_test_score\n",
      "6      0.1         0.1         0.805604\n",
      "7      0.1           1         0.936456\n",
      "8      0.1          10         0.910248\n",
      "10       1        0.01         0.804810\n",
      "11       1         0.1         0.934074\n",
      "12       1           1         0.981732\n",
      "13       1          10         0.978554\n",
      "15      10        0.01         0.932485\n",
      "16      10         0.1         0.972996\n",
      "17      10           1         0.987889\n",
      "18      10          10         0.981533\n",
      "20     100        0.01         0.959095\n",
      "21     100         0.1         0.984910\n",
      "22     100           1         0.988485\n",
      "23     100          10         0.981533\n"
     ]
    }
   ],
   "source": [
    "find_best_param_range(X_train, yg_train)"
   ]
  },
  {
   "cell_type": "code",
   "execution_count": 162,
   "metadata": {},
   "outputs": [
    {
     "name": "stdout",
     "output_type": "stream",
     "text": [
      "   param_C param_gamma  mean_test_score\n",
      "2     0.01           1         0.836579\n",
      "6      0.1         0.1         0.839956\n",
      "7      0.1           1         0.938444\n",
      "8      0.1          10         0.922561\n",
      "10       1        0.01         0.843134\n",
      "11       1         0.1         0.942217\n",
      "12       1           1         0.985505\n",
      "13       1          10         0.976176\n",
      "15      10        0.01         0.942815\n",
      "16      10         0.1         0.975775\n",
      "17      10           1         0.988683\n",
      "18      10          10         0.977566\n",
      "20     100        0.01         0.971210\n",
      "21     100         0.1         0.985705\n",
      "22     100           1         0.989478\n",
      "23     100          10         0.977566\n"
     ]
    }
   ],
   "source": [
    "find_best_param_range(X_train, ys_train)"
   ]
  },
  {
   "cell_type": "markdown",
   "metadata": {},
   "source": [
    "**Second step, fine tune the parameters.**"
   ]
  },
  {
   "cell_type": "code",
   "execution_count": 163,
   "metadata": {},
   "outputs": [
    {
     "name": "stdout",
     "output_type": "stream",
     "text": [
      "  param_C  mean_test_score\n",
      "0      10         0.990271\n",
      "1      20         0.990868\n",
      "2      30         0.990867\n",
      "3      40         0.991264\n",
      "4      50         0.991463\n",
      "5      60         0.991661\n",
      "6      70         0.991066\n",
      "7      80         0.991066\n",
      "8      90         0.991066\n",
      "9     100         0.991066\n",
      "Family: Best estimator: SVC(C=60, gamma=1)\n",
      "Family: Best accuracy: 0.9916611442456371\n"
     ]
    }
   ],
   "source": [
    "#Family\n",
    "parameters_new = {'decision_function_shape':['ovr'],\n",
    "                   'kernel':['rbf'],\n",
    "                   'C':[10*n for n in range(1,11)],\n",
    "                   'gamma':[1]}\n",
    "\n",
    "grid_search_f = GridSearchCV(estimator=svc, \n",
    "                             param_grid=parameters_new, \n",
    "                             scoring = 'accuracy', \n",
    "                             cv= 10)\n",
    "grid_search_f.fit(X_train, yf_train)\n",
    "print(pd.DataFrame(grid_search_f.cv_results_)[['param_C','mean_test_score']])\n",
    "print(f'Family: Best estimator: {grid_search_f.best_estimator_}')\n",
    "print(f'Family: Best accuracy: {grid_search_f.best_score_}')"
   ]
  },
  {
   "cell_type": "code",
   "execution_count": 164,
   "metadata": {},
   "outputs": [
    {
     "name": "stdout",
     "output_type": "stream",
     "text": [
      "  param_C  mean_test_score\n",
      "0      10         0.987889\n",
      "1      20         0.988287\n",
      "2      30         0.988883\n",
      "3      40         0.988883\n",
      "4      50         0.988485\n",
      "5      60         0.988684\n",
      "6      70         0.988684\n",
      "7      80         0.988485\n",
      "8      90         0.988485\n",
      "9     100         0.988485\n",
      "Genus: Best estimator: SVC(C=30, gamma=1)\n",
      "Genus: Best accuracy: 0.9888825775505696\n"
     ]
    }
   ],
   "source": [
    "#Genus\n",
    "parameters_new = {'decision_function_shape':['ovr'],\n",
    "                   'kernel':['rbf'],\n",
    "                   'C':[10*n for n in range(1,11)],\n",
    "                   'gamma':[1]}\n",
    "\n",
    "grid_search_g = GridSearchCV(estimator=svc, \n",
    "                             param_grid=parameters_new, \n",
    "                             scoring = 'accuracy', \n",
    "                             cv= 10)\n",
    "\n",
    "grid_search_g.fit(X_train, yg_train)\n",
    "print(pd.DataFrame(grid_search_g.cv_results_)[['param_C','mean_test_score']])\n",
    "print(f'Genus: Best estimator: {grid_search_g.best_estimator_}')\n",
    "print(f'Genus: Best accuracy: {grid_search_g.best_score_}')"
   ]
  },
  {
   "cell_type": "code",
   "execution_count": 165,
   "metadata": {},
   "outputs": [
    {
     "name": "stdout",
     "output_type": "stream",
     "text": [
      "  param_C  mean_test_score\n",
      "0      10         0.988683\n",
      "1      20         0.988485\n",
      "2      30         0.988485\n",
      "3      40         0.989478\n",
      "4      50         0.989478\n",
      "5      60         0.989478\n",
      "6      70         0.989478\n",
      "7      80         0.989279\n",
      "8      90         0.989478\n",
      "9     100         0.989478\n",
      "Species: Best estimator: SVC(C=40, gamma=1)\n",
      "Species: Best accuracy: 0.9894778156458077\n"
     ]
    }
   ],
   "source": [
    "#Species\n",
    "parameters_new = {'decision_function_shape':['ovr'],\n",
    "                   'kernel':['rbf'],\n",
    "                   'C':[10*n for n in range(1,11)],\n",
    "                   'gamma':[1]}\n",
    "\n",
    "grid_search_s = GridSearchCV(estimator=svc, \n",
    "                             param_grid=parameters_new, \n",
    "                             scoring = 'accuracy', \n",
    "                             cv= 10)\n",
    "\n",
    "grid_search_s.fit(X_train, ys_train)\n",
    "print(pd.DataFrame(grid_search_s.cv_results_)[['param_C','mean_test_score']])\n",
    "print(f'Species: Best estimator: {grid_search_s.best_estimator_}')\n",
    "print(f'Species: Best accuracy: {grid_search_s.best_score_}')"
   ]
  },
  {
   "cell_type": "code",
   "execution_count": 209,
   "metadata": {},
   "outputs": [],
   "source": [
    "#Family\n",
    "svc = svm.SVC(decision_function_shape='ovr', kernel='rbf',C=60, gamma=1)\n",
    "svc.fit(X_train, yf_train)\n",
    "yf_pred=svc.predict(X_test)\n",
    "yf_accuracy=accuracy_score(yf_pred, yf_test)\n",
    "\n",
    "#Genus\n",
    "svc = svm.SVC(decision_function_shape='ovr', kernel='rbf',C=30, gamma=1)\n",
    "svc.fit(X_train, yg_train)\n",
    "yg_pred=svc.predict(X_test)\n",
    "yg_accuracy=accuracy_score(yg_pred, yg_test)\n",
    "\n",
    "#Species\n",
    "svc = svm.SVC(decision_function_shape='ovr', kernel='rbf',C=40, gamma=1)\n",
    "svc.fit(X_train, ys_train)\n",
    "ys_pred=svc.predict(X_test)\n",
    "ys_accuracy=accuracy_score(ys_pred, ys_test)\n",
    "\n",
    "all_correct_family = (yf_test == yf_pred)\n",
    "all_correct_genus = (yg_test == yg_pred)\n",
    "all_correct_species = (ys_test == ys_pred)"
   ]
  },
  {
   "cell_type": "code",
   "execution_count": 210,
   "metadata": {},
   "outputs": [
    {
     "name": "stdout",
     "output_type": "stream",
     "text": [
      "Hamming loss: 0.009109155473213004\n",
      "Exact Match Accuracy: 0.9851783232978231\n"
     ]
    }
   ],
   "source": [
    "hamming_loss=1-(yf_accuracy+yg_accuracy+ys_accuracy)/3\n",
    "print(f'Hamming loss: {hamming_loss}')\n",
    "\n",
    "exact_match_accuracy = np.mean(all_correct_family & all_correct_genus & all_correct_species)\n",
    "print(f'Exact Match Accuracy: {exact_match_accuracy}')"
   ]
  },
  {
   "cell_type": "markdown",
   "metadata": {},
   "source": [
    "iii. Repeat 1(b)ii with L1-penalized SVMs. Remember to standardize the attributes. Determine the weight of the SVM penalty using 10 fold cross validation."
   ]
  },
  {
   "cell_type": "code",
   "execution_count": 170,
   "metadata": {},
   "outputs": [],
   "source": [
    "linear_svc = LinearSVC()\n",
    "parameters_base_l1 = {'multi_class':['ovr'],\n",
    "                   'penalty':[\"l1\"],\n",
    "                   'loss': ['squared_hinge'],\n",
    "                   'dual':['auto'],\n",
    "                   'max_iter':[5000],\n",
    "                   'C':[10**n for n in range(-3,6)]}"
   ]
  },
  {
   "cell_type": "code",
   "execution_count": 171,
   "metadata": {},
   "outputs": [],
   "source": [
    "scaler = StandardScaler()\n",
    "X_train_standardized = scaler.fit_transform(X_train)\n",
    "X_test_standardized = scaler.fit_transform(X_test)\n",
    "\n",
    "X_train_standardized_df = pd.DataFrame(X_train_standardized, columns=X_train.columns)\n",
    "X_test_standardized_df = pd.DataFrame(X_test_standardized, columns=X_test.columns)"
   ]
  },
  {
   "cell_type": "code",
   "execution_count": 172,
   "metadata": {},
   "outputs": [],
   "source": [
    "def find_best_param_range_l1(X_train_standardized_df, y_train):\n",
    "    grid_search = GridSearchCV(estimator=linear_svc, \n",
    "                                param_grid=parameters_base_l1, \n",
    "                                scoring = 'accuracy', \n",
    "                                cv= 10)\n",
    "    grid_search.fit(X_train_standardized_df, y_train)\n",
    "    results_df = pd.DataFrame(grid_search.cv_results_)[['param_C','mean_test_score']]\n",
    "    results_range_df = results_df[results_df['mean_test_score']>0.8]\n",
    "\n",
    "    print(results_range_df)"
   ]
  },
  {
   "cell_type": "code",
   "execution_count": 173,
   "metadata": {},
   "outputs": [
    {
     "name": "stdout",
     "output_type": "stream",
     "text": [
      "  param_C  mean_test_score\n",
      "0   0.001         0.853063\n",
      "1    0.01         0.927726\n",
      "2     0.1         0.936265\n",
      "3       1         0.937059\n",
      "4      10         0.937655\n",
      "5     100         0.937456\n",
      "6    1000         0.937456\n",
      "7   10000         0.937456\n",
      "8  100000         0.937456\n"
     ]
    }
   ],
   "source": [
    "find_best_param_range_l1(X_train_standardized_df, yf_train)"
   ]
  },
  {
   "cell_type": "code",
   "execution_count": 174,
   "metadata": {},
   "outputs": [
    {
     "name": "stdout",
     "output_type": "stream",
     "text": [
      "  param_C  mean_test_score\n",
      "0   0.001         0.817318\n",
      "1    0.01         0.910245\n",
      "2     0.1         0.938449\n",
      "3       1         0.946588\n",
      "4      10         0.947781\n",
      "5     100         0.948177\n",
      "6    1000         0.948177\n",
      "7   10000         0.948177\n",
      "8  100000         0.948177\n"
     ]
    }
   ],
   "source": [
    "find_best_param_range_l1(X_train_standardized_df, yg_train)"
   ]
  },
  {
   "cell_type": "code",
   "execution_count": 175,
   "metadata": {},
   "outputs": [
    {
     "name": "stdout",
     "output_type": "stream",
     "text": [
      "  param_C  mean_test_score\n",
      "1    0.01         0.913424\n",
      "2     0.1         0.948970\n",
      "3       1         0.958899\n",
      "4      10         0.959295\n",
      "5     100         0.959494\n",
      "6    1000         0.959494\n",
      "7   10000         0.959494\n",
      "8  100000         0.959494\n"
     ]
    }
   ],
   "source": [
    "find_best_param_range_l1(X_train_standardized_df, ys_train)"
   ]
  },
  {
   "cell_type": "code",
   "execution_count": 176,
   "metadata": {},
   "outputs": [
    {
     "name": "stdout",
     "output_type": "stream",
     "text": [
      "  param_C  mean_test_score\n",
      "0      10         0.937655\n",
      "1      20         0.937655\n",
      "2      30         0.937456\n",
      "3      40         0.937456\n",
      "4      50         0.937456\n",
      "Family: Best estimator: LinearSVC(C=10, dual='auto', max_iter=5000, penalty='l1')\n",
      "Family: Best accuracy: 0.9376546277888226\n"
     ]
    }
   ],
   "source": [
    "#Family\n",
    "parameters_new_l1 = {'multi_class':['ovr'],\n",
    "                   'penalty':[\"l1\"],\n",
    "                   'loss': ['squared_hinge'],\n",
    "                   'dual':['auto'],\n",
    "                   'max_iter':[5000],\n",
    "                   'C':[10*n for n in range(1,6)]}\n",
    "\n",
    "grid_search_f_l1 = GridSearchCV(estimator=linear_svc, \n",
    "                                param_grid=parameters_new_l1, \n",
    "                                scoring = 'accuracy', \n",
    "                                cv= 10)\n",
    "\n",
    "grid_search_f_l1.fit(X_train_standardized_df, yf_train)\n",
    "print(pd.DataFrame(grid_search_f_l1.cv_results_)[['param_C','mean_test_score']])\n",
    "print(f'Family: Best estimator: {grid_search_f_l1.best_estimator_}')\n",
    "print(f'Family: Best accuracy: {grid_search_f_l1.best_score_}')"
   ]
  },
  {
   "cell_type": "code",
   "execution_count": 177,
   "metadata": {},
   "outputs": [
    {
     "name": "stdout",
     "output_type": "stream",
     "text": [
      "  param_C  mean_test_score\n",
      "0      10         0.947781\n",
      "1      20         0.947582\n",
      "2      30         0.947582\n",
      "3      40         0.947582\n",
      "4      50         0.947780\n",
      "5      60         0.947780\n",
      "6      70         0.948177\n",
      "7      80         0.948177\n",
      "8      90         0.948177\n",
      "9     100         0.948177\n",
      "Genus: Best estimator: LinearSVC(C=70, dual='auto', max_iter=5000, penalty='l1')\n",
      "Genus: Best accuracy: 0.948176812143015\n"
     ]
    }
   ],
   "source": [
    "#Genus\n",
    "parameters_new_l1 = {'multi_class':['ovr'],\n",
    "                   'penalty':[\"l1\"],\n",
    "                   'loss': ['squared_hinge'],\n",
    "                   'dual':['auto'],\n",
    "                   'max_iter':[5000],\n",
    "                   'C':[10*n for n in range(1,11)]}\n",
    "\n",
    "grid_search_g_l1 = GridSearchCV(estimator=linear_svc, \n",
    "                                param_grid=parameters_new_l1, \n",
    "                                scoring = 'accuracy', \n",
    "                                cv= 10)\n",
    "\n",
    "grid_search_g_l1.fit(X_train_standardized_df, yg_train)\n",
    "print(pd.DataFrame(grid_search_g_l1.cv_results_)[['param_C','mean_test_score']])\n",
    "print(f'Genus: Best estimator: {grid_search_g_l1.best_estimator_}')\n",
    "print(f'Genus: Best accuracy: {grid_search_g_l1.best_score_}')"
   ]
  },
  {
   "cell_type": "code",
   "execution_count": 178,
   "metadata": {},
   "outputs": [
    {
     "name": "stdout",
     "output_type": "stream",
     "text": [
      "  param_C  mean_test_score\n",
      "0      10         0.959295\n",
      "1      20         0.959295\n",
      "2      30         0.959295\n",
      "3      40         0.959494\n",
      "4      50         0.959494\n",
      "5      60         0.959494\n",
      "6      70         0.959494\n",
      "7      80         0.959494\n",
      "8      90         0.959494\n",
      "9     100         0.959494\n",
      "Species: Best estimator: LinearSVC(C=40, dual='auto', max_iter=5000, penalty='l1')\n",
      "Species: Best accuracy: 0.959493830666793\n"
     ]
    }
   ],
   "source": [
    "#Species\n",
    "parameters_new_l1 = {'multi_class':['ovr'],\n",
    "                   'penalty':[\"l1\"],\n",
    "                   'loss': ['squared_hinge'],\n",
    "                   'dual':['auto'],\n",
    "                   'max_iter':[5000],\n",
    "                   'C':[10*n for n in range(1,11)]}\n",
    "\n",
    "grid_search_s_l1 = GridSearchCV(estimator=linear_svc, \n",
    "                                param_grid=parameters_new_l1, \n",
    "                                scoring = 'accuracy', \n",
    "                                cv= 10)\n",
    "\n",
    "grid_search_s_l1.fit(X_train_standardized_df, ys_train)\n",
    "print(pd.DataFrame(grid_search_s_l1.cv_results_)[['param_C','mean_test_score']])\n",
    "print(f'Species: Best estimator: {grid_search_s_l1.best_estimator_}')\n",
    "print(f'Species: Best accuracy: {grid_search_s_l1.best_score_}')"
   ]
  },
  {
   "cell_type": "code",
   "execution_count": 211,
   "metadata": {},
   "outputs": [],
   "source": [
    "linear_svc = LinearSVC(multi_class='ovr', penalty=\"l1\", loss = 'squared_hinge', dual='auto',max_iter=5000,C=10)\n",
    "linear_svc.fit(X_train_standardized_df, yf_train)\n",
    "yf_pred_l1=linear_svc.predict(X_test_standardized_df)\n",
    "yf_accuracy_l1=accuracy_score(yf_pred_l1, yf_test)\n",
    "\n",
    "linear_svc = LinearSVC(multi_class='ovr', penalty=\"l1\", loss = 'squared_hinge', dual='auto',max_iter=5000,C=70)\n",
    "linear_svc.fit(X_train_standardized_df, yg_train)\n",
    "yg_pred_l1=linear_svc.predict(X_test_standardized_df)\n",
    "yg_accuracy_l1=accuracy_score(yg_pred_l1, yg_test)\n",
    "\n",
    "linear_svc = LinearSVC(multi_class='ovr', penalty=\"l1\", loss = 'squared_hinge', dual='auto',max_iter=5000,C=40)\n",
    "linear_svc.fit(X_train_standardized_df, ys_train)\n",
    "ys_pred_l1=linear_svc.predict(X_test_standardized_df)\n",
    "ys_accuracy_l1=accuracy_score(ys_pred_l1, ys_test)\n",
    "\n",
    "\n",
    "all_correct_family = (yf_test == yf_pred_l1)\n",
    "all_correct_genus = (yg_test == yg_pred_l1)\n",
    "all_correct_species = (ys_test == ys_pred_l1)"
   ]
  },
  {
   "cell_type": "code",
   "execution_count": 212,
   "metadata": {},
   "outputs": [
    {
     "name": "stdout",
     "output_type": "stream",
     "text": [
      "Hamming loss: 0.056044465030106516\n",
      "Exact Match Accuracy: 0.904585456229736\n"
     ]
    }
   ],
   "source": [
    "hamming_loss_l1=1-(yf_accuracy_l1+yg_accuracy_l1+ys_accuracy_l1)/3\n",
    "print(f'Hamming loss: {hamming_loss_l1}')\n",
    "\n",
    "exact_match_accuracy_l1 = np.mean(all_correct_family & all_correct_genus & all_correct_species)\n",
    "print(f'Exact Match Accuracy: {exact_match_accuracy_l1}')"
   ]
  },
  {
   "cell_type": "markdown",
   "metadata": {},
   "source": [
    "iv. Repeat 1(b)iii by using SMOTE or any other method you know to remedy class imbalance. Report your conclusions about the classifiers you trained."
   ]
  },
  {
   "cell_type": "code",
   "execution_count": 181,
   "metadata": {},
   "outputs": [],
   "source": [
    "def find_best_param_range_l1_smote(X_train, y_train):\n",
    "    pipeline = Pipeline([\n",
    "        ('smote', SMOTE(random_state=0)),\n",
    "        ('scaler', StandardScaler()),\n",
    "        ('classifier', LinearSVC())\n",
    "    ])\n",
    "\n",
    "    parameters_base_l1 = {'classifier__multi_class':['ovr'],\n",
    "                   'classifier__penalty':[\"l1\"],\n",
    "                   'classifier__loss': ['squared_hinge'],\n",
    "                   'classifier__dual':['auto'],\n",
    "                   'classifier__max_iter':[5000],\n",
    "                   'classifier__C':[10**n for n in range(-2,4)]}\n",
    "    \n",
    "    grid_search = GridSearchCV(estimator=pipeline, \n",
    "                                param_grid=parameters_base_l1, \n",
    "                                scoring = 'accuracy', \n",
    "                                cv= 10)\n",
    "    \n",
    "    grid_search.fit(X_train, y_train)\n",
    "    \n",
    "    results_df = pd.DataFrame(grid_search.cv_results_)[['param_classifier__C','mean_test_score']]\n",
    "    results_range_df = results_df[results_df['mean_test_score']>0.8]\n",
    "\n",
    "    print(results_range_df)\n"
   ]
  },
  {
   "cell_type": "code",
   "execution_count": 182,
   "metadata": {},
   "outputs": [
    {
     "name": "stdout",
     "output_type": "stream",
     "text": [
      "  param_classifier__C  mean_test_score\n",
      "0                0.01         0.900917\n",
      "1                 0.1         0.915807\n",
      "2                   1         0.916800\n",
      "3                  10         0.916602\n",
      "4                 100         0.916602\n",
      "5                1000         0.916602\n"
     ]
    }
   ],
   "source": [
    "find_best_param_range_l1_smote(X_train, yf_train)"
   ]
  },
  {
   "cell_type": "code",
   "execution_count": 183,
   "metadata": {},
   "outputs": [
    {
     "name": "stderr",
     "output_type": "stream",
     "text": [
      "c:\\Users\\云忆\\AppData\\Local\\Programs\\Python\\Python38\\lib\\site-packages\\sklearn\\svm\\_base.py:1250: ConvergenceWarning: Liblinear failed to converge, increase the number of iterations.\n",
      "  warnings.warn(\n",
      "c:\\Users\\云忆\\AppData\\Local\\Programs\\Python\\Python38\\lib\\site-packages\\sklearn\\svm\\_base.py:1250: ConvergenceWarning: Liblinear failed to converge, increase the number of iterations.\n",
      "  warnings.warn(\n",
      "c:\\Users\\云忆\\AppData\\Local\\Programs\\Python\\Python38\\lib\\site-packages\\sklearn\\svm\\_base.py:1250: ConvergenceWarning: Liblinear failed to converge, increase the number of iterations.\n",
      "  warnings.warn(\n",
      "c:\\Users\\云忆\\AppData\\Local\\Programs\\Python\\Python38\\lib\\site-packages\\sklearn\\svm\\_base.py:1250: ConvergenceWarning: Liblinear failed to converge, increase the number of iterations.\n",
      "  warnings.warn(\n",
      "c:\\Users\\云忆\\AppData\\Local\\Programs\\Python\\Python38\\lib\\site-packages\\sklearn\\svm\\_base.py:1250: ConvergenceWarning: Liblinear failed to converge, increase the number of iterations.\n",
      "  warnings.warn(\n"
     ]
    },
    {
     "name": "stdout",
     "output_type": "stream",
     "text": [
      "  param_classifier__C  mean_test_score\n",
      "0                0.01         0.903496\n",
      "1                 0.1         0.908658\n",
      "2                   1         0.911437\n",
      "3                  10         0.911834\n",
      "4                 100         0.911835\n",
      "5                1000         0.911835\n"
     ]
    }
   ],
   "source": [
    "find_best_param_range_l1_smote(X_train, yg_train)"
   ]
  },
  {
   "cell_type": "code",
   "execution_count": 184,
   "metadata": {},
   "outputs": [
    {
     "name": "stderr",
     "output_type": "stream",
     "text": [
      "c:\\Users\\云忆\\AppData\\Local\\Programs\\Python\\Python38\\lib\\site-packages\\sklearn\\svm\\_base.py:1250: ConvergenceWarning: Liblinear failed to converge, increase the number of iterations.\n",
      "  warnings.warn(\n",
      "c:\\Users\\云忆\\AppData\\Local\\Programs\\Python\\Python38\\lib\\site-packages\\sklearn\\svm\\_base.py:1250: ConvergenceWarning: Liblinear failed to converge, increase the number of iterations.\n",
      "  warnings.warn(\n",
      "c:\\Users\\云忆\\AppData\\Local\\Programs\\Python\\Python38\\lib\\site-packages\\sklearn\\svm\\_base.py:1250: ConvergenceWarning: Liblinear failed to converge, increase the number of iterations.\n",
      "  warnings.warn(\n",
      "c:\\Users\\云忆\\AppData\\Local\\Programs\\Python\\Python38\\lib\\site-packages\\sklearn\\svm\\_base.py:1250: ConvergenceWarning: Liblinear failed to converge, increase the number of iterations.\n",
      "  warnings.warn(\n",
      "c:\\Users\\云忆\\AppData\\Local\\Programs\\Python\\Python38\\lib\\site-packages\\sklearn\\svm\\_base.py:1250: ConvergenceWarning: Liblinear failed to converge, increase the number of iterations.\n",
      "  warnings.warn(\n",
      "c:\\Users\\云忆\\AppData\\Local\\Programs\\Python\\Python38\\lib\\site-packages\\sklearn\\svm\\_base.py:1250: ConvergenceWarning: Liblinear failed to converge, increase the number of iterations.\n",
      "  warnings.warn(\n",
      "c:\\Users\\云忆\\AppData\\Local\\Programs\\Python\\Python38\\lib\\site-packages\\sklearn\\svm\\_base.py:1250: ConvergenceWarning: Liblinear failed to converge, increase the number of iterations.\n",
      "  warnings.warn(\n",
      "c:\\Users\\云忆\\AppData\\Local\\Programs\\Python\\Python38\\lib\\site-packages\\sklearn\\svm\\_base.py:1250: ConvergenceWarning: Liblinear failed to converge, increase the number of iterations.\n",
      "  warnings.warn(\n",
      "c:\\Users\\云忆\\AppData\\Local\\Programs\\Python\\Python38\\lib\\site-packages\\sklearn\\svm\\_base.py:1250: ConvergenceWarning: Liblinear failed to converge, increase the number of iterations.\n",
      "  warnings.warn(\n"
     ]
    },
    {
     "name": "stdout",
     "output_type": "stream",
     "text": [
      "  param_classifier__C  mean_test_score\n",
      "0                0.01         0.951553\n",
      "1                 0.1         0.954136\n",
      "2                   1         0.954134\n",
      "3                  10         0.953737\n",
      "4                 100         0.953737\n",
      "5                1000         0.953737\n"
     ]
    }
   ],
   "source": [
    "find_best_param_range_l1_smote(X_train, ys_train)"
   ]
  },
  {
   "cell_type": "code",
   "execution_count": 185,
   "metadata": {},
   "outputs": [],
   "source": [
    "pipeline = Pipeline([\n",
    "    ('smote', SMOTE(random_state=0)),\n",
    "    ('scaler', StandardScaler()),\n",
    "    ('classifier', LinearSVC())\n",
    "])"
   ]
  },
  {
   "cell_type": "code",
   "execution_count": 187,
   "metadata": {},
   "outputs": [
    {
     "name": "stdout",
     "output_type": "stream",
     "text": [
      "  param_classifier__C  mean_test_score\n",
      "0                   1         0.916800\n",
      "1                   2         0.916602\n",
      "2                   3         0.916602\n",
      "3                   4         0.916404\n",
      "4                   5         0.916602\n",
      "5                   6         0.916404\n",
      "6                   7         0.916602\n",
      "7                   8         0.916602\n",
      "8                   9         0.916602\n",
      "9                  10         0.916602\n",
      "Family smote l1: Best estimator: Pipeline(steps=[('smote', SMOTE(random_state=0)), ('scaler', StandardScaler()),\n",
      "                ('classifier',\n",
      "                 LinearSVC(C=1, dual='auto', max_iter=5000, penalty='l1'))])\n",
      "Family smote l1: Best accuracy: 0.9168003881473068\n"
     ]
    }
   ],
   "source": [
    "#Family smote l1\n",
    "parameters_new_smote_l1 = {'classifier__multi_class':['ovr'],\n",
    "                'classifier__penalty':[\"l1\"],\n",
    "                'classifier__loss': ['squared_hinge'],\n",
    "                'classifier__dual':['auto'],\n",
    "                'classifier__max_iter':[5000],\n",
    "                'classifier__C':[n for n in range(1,11)]}\n",
    "\n",
    "grid_search_f_smote_l1 = GridSearchCV(estimator=pipeline, \n",
    "                            param_grid=parameters_new_smote_l1, \n",
    "                            scoring = 'accuracy', \n",
    "                            cv= 10)\n",
    "\n",
    "grid_search_f_smote_l1.fit(X_train, yf_train)\n",
    "print(pd.DataFrame(grid_search_f_smote_l1.cv_results_)[['param_classifier__C','mean_test_score']])\n",
    "print(f'Family smote l1: Best estimator: {grid_search_f_smote_l1.best_estimator_}')\n",
    "print(f'Family smote l1: Best accuracy: {grid_search_f_smote_l1.best_score_}')"
   ]
  },
  {
   "cell_type": "code",
   "execution_count": 189,
   "metadata": {},
   "outputs": [
    {
     "name": "stderr",
     "output_type": "stream",
     "text": [
      "c:\\Users\\云忆\\AppData\\Local\\Programs\\Python\\Python38\\lib\\site-packages\\sklearn\\svm\\_base.py:1250: ConvergenceWarning: Liblinear failed to converge, increase the number of iterations.\n",
      "  warnings.warn(\n",
      "c:\\Users\\云忆\\AppData\\Local\\Programs\\Python\\Python38\\lib\\site-packages\\sklearn\\svm\\_base.py:1250: ConvergenceWarning: Liblinear failed to converge, increase the number of iterations.\n",
      "  warnings.warn(\n",
      "c:\\Users\\云忆\\AppData\\Local\\Programs\\Python\\Python38\\lib\\site-packages\\sklearn\\svm\\_base.py:1250: ConvergenceWarning: Liblinear failed to converge, increase the number of iterations.\n",
      "  warnings.warn(\n",
      "c:\\Users\\云忆\\AppData\\Local\\Programs\\Python\\Python38\\lib\\site-packages\\sklearn\\svm\\_base.py:1250: ConvergenceWarning: Liblinear failed to converge, increase the number of iterations.\n",
      "  warnings.warn(\n",
      "c:\\Users\\云忆\\AppData\\Local\\Programs\\Python\\Python38\\lib\\site-packages\\sklearn\\svm\\_base.py:1250: ConvergenceWarning: Liblinear failed to converge, increase the number of iterations.\n",
      "  warnings.warn(\n",
      "c:\\Users\\云忆\\AppData\\Local\\Programs\\Python\\Python38\\lib\\site-packages\\sklearn\\svm\\_base.py:1250: ConvergenceWarning: Liblinear failed to converge, increase the number of iterations.\n",
      "  warnings.warn(\n",
      "c:\\Users\\云忆\\AppData\\Local\\Programs\\Python\\Python38\\lib\\site-packages\\sklearn\\svm\\_base.py:1250: ConvergenceWarning: Liblinear failed to converge, increase the number of iterations.\n",
      "  warnings.warn(\n",
      "c:\\Users\\云忆\\AppData\\Local\\Programs\\Python\\Python38\\lib\\site-packages\\sklearn\\svm\\_base.py:1250: ConvergenceWarning: Liblinear failed to converge, increase the number of iterations.\n",
      "  warnings.warn(\n",
      "c:\\Users\\云忆\\AppData\\Local\\Programs\\Python\\Python38\\lib\\site-packages\\sklearn\\svm\\_base.py:1250: ConvergenceWarning: Liblinear failed to converge, increase the number of iterations.\n",
      "  warnings.warn(\n",
      "c:\\Users\\云忆\\AppData\\Local\\Programs\\Python\\Python38\\lib\\site-packages\\sklearn\\svm\\_base.py:1250: ConvergenceWarning: Liblinear failed to converge, increase the number of iterations.\n",
      "  warnings.warn(\n",
      "c:\\Users\\云忆\\AppData\\Local\\Programs\\Python\\Python38\\lib\\site-packages\\sklearn\\svm\\_base.py:1250: ConvergenceWarning: Liblinear failed to converge, increase the number of iterations.\n",
      "  warnings.warn(\n",
      "c:\\Users\\云忆\\AppData\\Local\\Programs\\Python\\Python38\\lib\\site-packages\\sklearn\\svm\\_base.py:1250: ConvergenceWarning: Liblinear failed to converge, increase the number of iterations.\n",
      "  warnings.warn(\n",
      "c:\\Users\\云忆\\AppData\\Local\\Programs\\Python\\Python38\\lib\\site-packages\\sklearn\\svm\\_base.py:1250: ConvergenceWarning: Liblinear failed to converge, increase the number of iterations.\n",
      "  warnings.warn(\n",
      "c:\\Users\\云忆\\AppData\\Local\\Programs\\Python\\Python38\\lib\\site-packages\\sklearn\\svm\\_base.py:1250: ConvergenceWarning: Liblinear failed to converge, increase the number of iterations.\n",
      "  warnings.warn(\n",
      "c:\\Users\\云忆\\AppData\\Local\\Programs\\Python\\Python38\\lib\\site-packages\\sklearn\\svm\\_base.py:1250: ConvergenceWarning: Liblinear failed to converge, increase the number of iterations.\n",
      "  warnings.warn(\n",
      "c:\\Users\\云忆\\AppData\\Local\\Programs\\Python\\Python38\\lib\\site-packages\\sklearn\\svm\\_base.py:1250: ConvergenceWarning: Liblinear failed to converge, increase the number of iterations.\n",
      "  warnings.warn(\n",
      "c:\\Users\\云忆\\AppData\\Local\\Programs\\Python\\Python38\\lib\\site-packages\\sklearn\\svm\\_base.py:1250: ConvergenceWarning: Liblinear failed to converge, increase the number of iterations.\n",
      "  warnings.warn(\n",
      "c:\\Users\\云忆\\AppData\\Local\\Programs\\Python\\Python38\\lib\\site-packages\\sklearn\\svm\\_base.py:1250: ConvergenceWarning: Liblinear failed to converge, increase the number of iterations.\n",
      "  warnings.warn(\n",
      "c:\\Users\\云忆\\AppData\\Local\\Programs\\Python\\Python38\\lib\\site-packages\\sklearn\\svm\\_base.py:1250: ConvergenceWarning: Liblinear failed to converge, increase the number of iterations.\n",
      "  warnings.warn(\n",
      "c:\\Users\\云忆\\AppData\\Local\\Programs\\Python\\Python38\\lib\\site-packages\\sklearn\\svm\\_base.py:1250: ConvergenceWarning: Liblinear failed to converge, increase the number of iterations.\n",
      "  warnings.warn(\n",
      "c:\\Users\\云忆\\AppData\\Local\\Programs\\Python\\Python38\\lib\\site-packages\\sklearn\\svm\\_base.py:1250: ConvergenceWarning: Liblinear failed to converge, increase the number of iterations.\n",
      "  warnings.warn(\n",
      "c:\\Users\\云忆\\AppData\\Local\\Programs\\Python\\Python38\\lib\\site-packages\\sklearn\\svm\\_base.py:1250: ConvergenceWarning: Liblinear failed to converge, increase the number of iterations.\n",
      "  warnings.warn(\n",
      "c:\\Users\\云忆\\AppData\\Local\\Programs\\Python\\Python38\\lib\\site-packages\\sklearn\\svm\\_base.py:1250: ConvergenceWarning: Liblinear failed to converge, increase the number of iterations.\n",
      "  warnings.warn(\n",
      "c:\\Users\\云忆\\AppData\\Local\\Programs\\Python\\Python38\\lib\\site-packages\\sklearn\\svm\\_base.py:1250: ConvergenceWarning: Liblinear failed to converge, increase the number of iterations.\n",
      "  warnings.warn(\n",
      "c:\\Users\\云忆\\AppData\\Local\\Programs\\Python\\Python38\\lib\\site-packages\\sklearn\\svm\\_base.py:1250: ConvergenceWarning: Liblinear failed to converge, increase the number of iterations.\n",
      "  warnings.warn(\n",
      "c:\\Users\\云忆\\AppData\\Local\\Programs\\Python\\Python38\\lib\\site-packages\\sklearn\\svm\\_base.py:1250: ConvergenceWarning: Liblinear failed to converge, increase the number of iterations.\n",
      "  warnings.warn(\n",
      "c:\\Users\\云忆\\AppData\\Local\\Programs\\Python\\Python38\\lib\\site-packages\\sklearn\\svm\\_base.py:1250: ConvergenceWarning: Liblinear failed to converge, increase the number of iterations.\n",
      "  warnings.warn(\n",
      "c:\\Users\\云忆\\AppData\\Local\\Programs\\Python\\Python38\\lib\\site-packages\\sklearn\\svm\\_base.py:1250: ConvergenceWarning: Liblinear failed to converge, increase the number of iterations.\n",
      "  warnings.warn(\n",
      "c:\\Users\\云忆\\AppData\\Local\\Programs\\Python\\Python38\\lib\\site-packages\\sklearn\\svm\\_base.py:1250: ConvergenceWarning: Liblinear failed to converge, increase the number of iterations.\n",
      "  warnings.warn(\n",
      "c:\\Users\\云忆\\AppData\\Local\\Programs\\Python\\Python38\\lib\\site-packages\\sklearn\\svm\\_base.py:1250: ConvergenceWarning: Liblinear failed to converge, increase the number of iterations.\n",
      "  warnings.warn(\n",
      "c:\\Users\\云忆\\AppData\\Local\\Programs\\Python\\Python38\\lib\\site-packages\\sklearn\\svm\\_base.py:1250: ConvergenceWarning: Liblinear failed to converge, increase the number of iterations.\n",
      "  warnings.warn(\n",
      "c:\\Users\\云忆\\AppData\\Local\\Programs\\Python\\Python38\\lib\\site-packages\\sklearn\\svm\\_base.py:1250: ConvergenceWarning: Liblinear failed to converge, increase the number of iterations.\n",
      "  warnings.warn(\n",
      "c:\\Users\\云忆\\AppData\\Local\\Programs\\Python\\Python38\\lib\\site-packages\\sklearn\\svm\\_base.py:1250: ConvergenceWarning: Liblinear failed to converge, increase the number of iterations.\n",
      "  warnings.warn(\n",
      "c:\\Users\\云忆\\AppData\\Local\\Programs\\Python\\Python38\\lib\\site-packages\\sklearn\\svm\\_base.py:1250: ConvergenceWarning: Liblinear failed to converge, increase the number of iterations.\n",
      "  warnings.warn(\n",
      "c:\\Users\\云忆\\AppData\\Local\\Programs\\Python\\Python38\\lib\\site-packages\\sklearn\\svm\\_base.py:1250: ConvergenceWarning: Liblinear failed to converge, increase the number of iterations.\n",
      "  warnings.warn(\n",
      "c:\\Users\\云忆\\AppData\\Local\\Programs\\Python\\Python38\\lib\\site-packages\\sklearn\\svm\\_base.py:1250: ConvergenceWarning: Liblinear failed to converge, increase the number of iterations.\n",
      "  warnings.warn(\n",
      "c:\\Users\\云忆\\AppData\\Local\\Programs\\Python\\Python38\\lib\\site-packages\\sklearn\\svm\\_base.py:1250: ConvergenceWarning: Liblinear failed to converge, increase the number of iterations.\n",
      "  warnings.warn(\n",
      "c:\\Users\\云忆\\AppData\\Local\\Programs\\Python\\Python38\\lib\\site-packages\\sklearn\\svm\\_base.py:1250: ConvergenceWarning: Liblinear failed to converge, increase the number of iterations.\n",
      "  warnings.warn(\n",
      "c:\\Users\\云忆\\AppData\\Local\\Programs\\Python\\Python38\\lib\\site-packages\\sklearn\\svm\\_base.py:1250: ConvergenceWarning: Liblinear failed to converge, increase the number of iterations.\n",
      "  warnings.warn(\n"
     ]
    },
    {
     "name": "stdout",
     "output_type": "stream",
     "text": [
      "  param_classifier__C  mean_test_score\n",
      "0                  10         0.911834\n",
      "1                  20         0.912033\n",
      "2                  30         0.912033\n",
      "3                  40         0.912033\n",
      "4                  50         0.912033\n",
      "Genus smote l1: Best estimator: Pipeline(steps=[('smote', SMOTE(random_state=0)), ('scaler', StandardScaler()),\n",
      "                ('classifier',\n",
      "                 LinearSVC(C=20, dual='auto', max_iter=2000, penalty='l1'))])\n",
      "Genus smote l1: Best accuracy: 0.9120329609643724\n"
     ]
    },
    {
     "name": "stderr",
     "output_type": "stream",
     "text": [
      "c:\\Users\\云忆\\AppData\\Local\\Programs\\Python\\Python38\\lib\\site-packages\\sklearn\\svm\\_base.py:1250: ConvergenceWarning: Liblinear failed to converge, increase the number of iterations.\n",
      "  warnings.warn(\n"
     ]
    }
   ],
   "source": [
    "#Genus smote l1\n",
    "parameters_new_smote_l1 = {'classifier__multi_class':['ovr'],\n",
    "                'classifier__penalty':[\"l1\"],\n",
    "                'classifier__loss': ['squared_hinge'],\n",
    "                'classifier__dual':['auto'],\n",
    "                'classifier__max_iter':[2000],\n",
    "                'classifier__C':[n*10 for n in range(1,6)]}\n",
    "\n",
    "grid_search_g_smote_l1 = GridSearchCV(estimator=pipeline, \n",
    "                            param_grid=parameters_new_smote_l1, \n",
    "                            scoring = 'accuracy', \n",
    "                            cv= 10)\n",
    "\n",
    "grid_search_g_smote_l1.fit(X_train, yg_train)\n",
    "print(pd.DataFrame(grid_search_g_smote_l1.cv_results_)[['param_classifier__C','mean_test_score']])\n",
    "print(f'Genus smote l1: Best estimator: {grid_search_g_smote_l1.best_estimator_}')\n",
    "print(f'Genus smote l1: Best accuracy: {grid_search_g_smote_l1.best_score_}')"
   ]
  },
  {
   "cell_type": "code",
   "execution_count": 192,
   "metadata": {},
   "outputs": [
    {
     "name": "stderr",
     "output_type": "stream",
     "text": [
      "c:\\Users\\云忆\\AppData\\Local\\Programs\\Python\\Python38\\lib\\site-packages\\sklearn\\svm\\_base.py:1250: ConvergenceWarning: Liblinear failed to converge, increase the number of iterations.\n",
      "  warnings.warn(\n",
      "c:\\Users\\云忆\\AppData\\Local\\Programs\\Python\\Python38\\lib\\site-packages\\sklearn\\svm\\_base.py:1250: ConvergenceWarning: Liblinear failed to converge, increase the number of iterations.\n",
      "  warnings.warn(\n",
      "c:\\Users\\云忆\\AppData\\Local\\Programs\\Python\\Python38\\lib\\site-packages\\sklearn\\svm\\_base.py:1250: ConvergenceWarning: Liblinear failed to converge, increase the number of iterations.\n",
      "  warnings.warn(\n",
      "c:\\Users\\云忆\\AppData\\Local\\Programs\\Python\\Python38\\lib\\site-packages\\sklearn\\svm\\_base.py:1250: ConvergenceWarning: Liblinear failed to converge, increase the number of iterations.\n",
      "  warnings.warn(\n",
      "c:\\Users\\云忆\\AppData\\Local\\Programs\\Python\\Python38\\lib\\site-packages\\sklearn\\svm\\_base.py:1250: ConvergenceWarning: Liblinear failed to converge, increase the number of iterations.\n",
      "  warnings.warn(\n",
      "c:\\Users\\云忆\\AppData\\Local\\Programs\\Python\\Python38\\lib\\site-packages\\sklearn\\svm\\_base.py:1250: ConvergenceWarning: Liblinear failed to converge, increase the number of iterations.\n",
      "  warnings.warn(\n",
      "c:\\Users\\云忆\\AppData\\Local\\Programs\\Python\\Python38\\lib\\site-packages\\sklearn\\svm\\_base.py:1250: ConvergenceWarning: Liblinear failed to converge, increase the number of iterations.\n",
      "  warnings.warn(\n",
      "c:\\Users\\云忆\\AppData\\Local\\Programs\\Python\\Python38\\lib\\site-packages\\sklearn\\svm\\_base.py:1250: ConvergenceWarning: Liblinear failed to converge, increase the number of iterations.\n",
      "  warnings.warn(\n",
      "c:\\Users\\云忆\\AppData\\Local\\Programs\\Python\\Python38\\lib\\site-packages\\sklearn\\svm\\_base.py:1250: ConvergenceWarning: Liblinear failed to converge, increase the number of iterations.\n",
      "  warnings.warn(\n",
      "c:\\Users\\云忆\\AppData\\Local\\Programs\\Python\\Python38\\lib\\site-packages\\sklearn\\svm\\_base.py:1250: ConvergenceWarning: Liblinear failed to converge, increase the number of iterations.\n",
      "  warnings.warn(\n",
      "c:\\Users\\云忆\\AppData\\Local\\Programs\\Python\\Python38\\lib\\site-packages\\sklearn\\svm\\_base.py:1250: ConvergenceWarning: Liblinear failed to converge, increase the number of iterations.\n",
      "  warnings.warn(\n",
      "c:\\Users\\云忆\\AppData\\Local\\Programs\\Python\\Python38\\lib\\site-packages\\sklearn\\svm\\_base.py:1250: ConvergenceWarning: Liblinear failed to converge, increase the number of iterations.\n",
      "  warnings.warn(\n",
      "c:\\Users\\云忆\\AppData\\Local\\Programs\\Python\\Python38\\lib\\site-packages\\sklearn\\svm\\_base.py:1250: ConvergenceWarning: Liblinear failed to converge, increase the number of iterations.\n",
      "  warnings.warn(\n",
      "c:\\Users\\云忆\\AppData\\Local\\Programs\\Python\\Python38\\lib\\site-packages\\sklearn\\svm\\_base.py:1250: ConvergenceWarning: Liblinear failed to converge, increase the number of iterations.\n",
      "  warnings.warn(\n",
      "c:\\Users\\云忆\\AppData\\Local\\Programs\\Python\\Python38\\lib\\site-packages\\sklearn\\svm\\_base.py:1250: ConvergenceWarning: Liblinear failed to converge, increase the number of iterations.\n",
      "  warnings.warn(\n",
      "c:\\Users\\云忆\\AppData\\Local\\Programs\\Python\\Python38\\lib\\site-packages\\sklearn\\svm\\_base.py:1250: ConvergenceWarning: Liblinear failed to converge, increase the number of iterations.\n",
      "  warnings.warn(\n",
      "c:\\Users\\云忆\\AppData\\Local\\Programs\\Python\\Python38\\lib\\site-packages\\sklearn\\svm\\_base.py:1250: ConvergenceWarning: Liblinear failed to converge, increase the number of iterations.\n",
      "  warnings.warn(\n",
      "c:\\Users\\云忆\\AppData\\Local\\Programs\\Python\\Python38\\lib\\site-packages\\sklearn\\svm\\_base.py:1250: ConvergenceWarning: Liblinear failed to converge, increase the number of iterations.\n",
      "  warnings.warn(\n",
      "c:\\Users\\云忆\\AppData\\Local\\Programs\\Python\\Python38\\lib\\site-packages\\sklearn\\svm\\_base.py:1250: ConvergenceWarning: Liblinear failed to converge, increase the number of iterations.\n",
      "  warnings.warn(\n",
      "c:\\Users\\云忆\\AppData\\Local\\Programs\\Python\\Python38\\lib\\site-packages\\sklearn\\svm\\_base.py:1250: ConvergenceWarning: Liblinear failed to converge, increase the number of iterations.\n",
      "  warnings.warn(\n",
      "c:\\Users\\云忆\\AppData\\Local\\Programs\\Python\\Python38\\lib\\site-packages\\sklearn\\svm\\_base.py:1250: ConvergenceWarning: Liblinear failed to converge, increase the number of iterations.\n",
      "  warnings.warn(\n",
      "c:\\Users\\云忆\\AppData\\Local\\Programs\\Python\\Python38\\lib\\site-packages\\sklearn\\svm\\_base.py:1250: ConvergenceWarning: Liblinear failed to converge, increase the number of iterations.\n",
      "  warnings.warn(\n",
      "c:\\Users\\云忆\\AppData\\Local\\Programs\\Python\\Python38\\lib\\site-packages\\sklearn\\svm\\_base.py:1250: ConvergenceWarning: Liblinear failed to converge, increase the number of iterations.\n",
      "  warnings.warn(\n",
      "c:\\Users\\云忆\\AppData\\Local\\Programs\\Python\\Python38\\lib\\site-packages\\sklearn\\svm\\_base.py:1250: ConvergenceWarning: Liblinear failed to converge, increase the number of iterations.\n",
      "  warnings.warn(\n",
      "c:\\Users\\云忆\\AppData\\Local\\Programs\\Python\\Python38\\lib\\site-packages\\sklearn\\svm\\_base.py:1250: ConvergenceWarning: Liblinear failed to converge, increase the number of iterations.\n",
      "  warnings.warn(\n",
      "c:\\Users\\云忆\\AppData\\Local\\Programs\\Python\\Python38\\lib\\site-packages\\sklearn\\svm\\_base.py:1250: ConvergenceWarning: Liblinear failed to converge, increase the number of iterations.\n",
      "  warnings.warn(\n",
      "c:\\Users\\云忆\\AppData\\Local\\Programs\\Python\\Python38\\lib\\site-packages\\sklearn\\svm\\_base.py:1250: ConvergenceWarning: Liblinear failed to converge, increase the number of iterations.\n",
      "  warnings.warn(\n",
      "c:\\Users\\云忆\\AppData\\Local\\Programs\\Python\\Python38\\lib\\site-packages\\sklearn\\svm\\_base.py:1250: ConvergenceWarning: Liblinear failed to converge, increase the number of iterations.\n",
      "  warnings.warn(\n",
      "c:\\Users\\云忆\\AppData\\Local\\Programs\\Python\\Python38\\lib\\site-packages\\sklearn\\svm\\_base.py:1250: ConvergenceWarning: Liblinear failed to converge, increase the number of iterations.\n",
      "  warnings.warn(\n",
      "c:\\Users\\云忆\\AppData\\Local\\Programs\\Python\\Python38\\lib\\site-packages\\sklearn\\svm\\_base.py:1250: ConvergenceWarning: Liblinear failed to converge, increase the number of iterations.\n",
      "  warnings.warn(\n",
      "c:\\Users\\云忆\\AppData\\Local\\Programs\\Python\\Python38\\lib\\site-packages\\sklearn\\svm\\_base.py:1250: ConvergenceWarning: Liblinear failed to converge, increase the number of iterations.\n",
      "  warnings.warn(\n",
      "c:\\Users\\云忆\\AppData\\Local\\Programs\\Python\\Python38\\lib\\site-packages\\sklearn\\svm\\_base.py:1250: ConvergenceWarning: Liblinear failed to converge, increase the number of iterations.\n",
      "  warnings.warn(\n",
      "c:\\Users\\云忆\\AppData\\Local\\Programs\\Python\\Python38\\lib\\site-packages\\sklearn\\svm\\_base.py:1250: ConvergenceWarning: Liblinear failed to converge, increase the number of iterations.\n",
      "  warnings.warn(\n",
      "c:\\Users\\云忆\\AppData\\Local\\Programs\\Python\\Python38\\lib\\site-packages\\sklearn\\svm\\_base.py:1250: ConvergenceWarning: Liblinear failed to converge, increase the number of iterations.\n",
      "  warnings.warn(\n",
      "c:\\Users\\云忆\\AppData\\Local\\Programs\\Python\\Python38\\lib\\site-packages\\sklearn\\svm\\_base.py:1250: ConvergenceWarning: Liblinear failed to converge, increase the number of iterations.\n",
      "  warnings.warn(\n",
      "c:\\Users\\云忆\\AppData\\Local\\Programs\\Python\\Python38\\lib\\site-packages\\sklearn\\svm\\_base.py:1250: ConvergenceWarning: Liblinear failed to converge, increase the number of iterations.\n",
      "  warnings.warn(\n",
      "c:\\Users\\云忆\\AppData\\Local\\Programs\\Python\\Python38\\lib\\site-packages\\sklearn\\svm\\_base.py:1250: ConvergenceWarning: Liblinear failed to converge, increase the number of iterations.\n",
      "  warnings.warn(\n",
      "c:\\Users\\云忆\\AppData\\Local\\Programs\\Python\\Python38\\lib\\site-packages\\sklearn\\svm\\_base.py:1250: ConvergenceWarning: Liblinear failed to converge, increase the number of iterations.\n",
      "  warnings.warn(\n",
      "c:\\Users\\云忆\\AppData\\Local\\Programs\\Python\\Python38\\lib\\site-packages\\sklearn\\svm\\_base.py:1250: ConvergenceWarning: Liblinear failed to converge, increase the number of iterations.\n",
      "  warnings.warn(\n",
      "c:\\Users\\云忆\\AppData\\Local\\Programs\\Python\\Python38\\lib\\site-packages\\sklearn\\svm\\_base.py:1250: ConvergenceWarning: Liblinear failed to converge, increase the number of iterations.\n",
      "  warnings.warn(\n",
      "c:\\Users\\云忆\\AppData\\Local\\Programs\\Python\\Python38\\lib\\site-packages\\sklearn\\svm\\_base.py:1250: ConvergenceWarning: Liblinear failed to converge, increase the number of iterations.\n",
      "  warnings.warn(\n",
      "c:\\Users\\云忆\\AppData\\Local\\Programs\\Python\\Python38\\lib\\site-packages\\sklearn\\svm\\_base.py:1250: ConvergenceWarning: Liblinear failed to converge, increase the number of iterations.\n",
      "  warnings.warn(\n",
      "c:\\Users\\云忆\\AppData\\Local\\Programs\\Python\\Python38\\lib\\site-packages\\sklearn\\svm\\_base.py:1250: ConvergenceWarning: Liblinear failed to converge, increase the number of iterations.\n",
      "  warnings.warn(\n",
      "c:\\Users\\云忆\\AppData\\Local\\Programs\\Python\\Python38\\lib\\site-packages\\sklearn\\svm\\_base.py:1250: ConvergenceWarning: Liblinear failed to converge, increase the number of iterations.\n",
      "  warnings.warn(\n",
      "c:\\Users\\云忆\\AppData\\Local\\Programs\\Python\\Python38\\lib\\site-packages\\sklearn\\svm\\_base.py:1250: ConvergenceWarning: Liblinear failed to converge, increase the number of iterations.\n",
      "  warnings.warn(\n",
      "c:\\Users\\云忆\\AppData\\Local\\Programs\\Python\\Python38\\lib\\site-packages\\sklearn\\svm\\_base.py:1250: ConvergenceWarning: Liblinear failed to converge, increase the number of iterations.\n",
      "  warnings.warn(\n",
      "c:\\Users\\云忆\\AppData\\Local\\Programs\\Python\\Python38\\lib\\site-packages\\sklearn\\svm\\_base.py:1250: ConvergenceWarning: Liblinear failed to converge, increase the number of iterations.\n",
      "  warnings.warn(\n",
      "c:\\Users\\云忆\\AppData\\Local\\Programs\\Python\\Python38\\lib\\site-packages\\sklearn\\svm\\_base.py:1250: ConvergenceWarning: Liblinear failed to converge, increase the number of iterations.\n",
      "  warnings.warn(\n",
      "c:\\Users\\云忆\\AppData\\Local\\Programs\\Python\\Python38\\lib\\site-packages\\sklearn\\svm\\_base.py:1250: ConvergenceWarning: Liblinear failed to converge, increase the number of iterations.\n",
      "  warnings.warn(\n",
      "c:\\Users\\云忆\\AppData\\Local\\Programs\\Python\\Python38\\lib\\site-packages\\sklearn\\svm\\_base.py:1250: ConvergenceWarning: Liblinear failed to converge, increase the number of iterations.\n",
      "  warnings.warn(\n"
     ]
    },
    {
     "name": "stdout",
     "output_type": "stream",
     "text": [
      "  param_classifier__C  mean_test_score\n",
      "0                 0.1         0.954334\n",
      "1                 0.2         0.953936\n",
      "2                 0.3         0.954134\n",
      "3                 0.4         0.953936\n",
      "4                 0.5         0.954334\n",
      "Species smote l1: Best estimator: Pipeline(steps=[('smote', SMOTE(random_state=0)), ('scaler', StandardScaler()),\n",
      "                ('classifier', LinearSVC(C=0.1, dual='auto', penalty='l1'))])\n",
      "Species smote l1: Best accuracy: 0.9543335226734829\n"
     ]
    },
    {
     "name": "stderr",
     "output_type": "stream",
     "text": [
      "c:\\Users\\云忆\\AppData\\Local\\Programs\\Python\\Python38\\lib\\site-packages\\sklearn\\svm\\_base.py:1250: ConvergenceWarning: Liblinear failed to converge, increase the number of iterations.\n",
      "  warnings.warn(\n"
     ]
    }
   ],
   "source": [
    "#Species smote l1\n",
    "parameters_new_smote_l1 = {'classifier__multi_class':['ovr'],\n",
    "                'classifier__penalty':[\"l1\"],\n",
    "                'classifier__loss': ['squared_hinge'],\n",
    "                'classifier__dual':['auto'],\n",
    "                'classifier__max_iter':[1000],\n",
    "                'classifier__C':[n*0.1 for n in range(1,6)]}\n",
    "\n",
    "grid_search_s_smote_l1 = GridSearchCV(estimator=pipeline, \n",
    "                            param_grid=parameters_new_smote_l1, \n",
    "                            scoring = 'accuracy', \n",
    "                            cv= 10)\n",
    "\n",
    "grid_search_s_smote_l1.fit(X_train, ys_train)\n",
    "print(pd.DataFrame(grid_search_s_smote_l1.cv_results_)[['param_classifier__C','mean_test_score']])\n",
    "print(f'Species smote l1: Best estimator: {grid_search_s_smote_l1.best_estimator_}')\n",
    "print(f'Species smote l1: Best accuracy: {grid_search_s_smote_l1.best_score_}')"
   ]
  },
  {
   "cell_type": "code",
   "execution_count": 213,
   "metadata": {},
   "outputs": [],
   "source": [
    "pipeline = Pipeline([\n",
    "    ('smote', SMOTE(random_state=0)),\n",
    "    ('scaler', StandardScaler()),\n",
    "    ('classifier', LinearSVC(multi_class='ovr', penalty = \"l1\", loss='squared_hinge', dual='auto', max_iter=5000, C=1))\n",
    "])\n",
    "pipeline.fit(X_train, yf_train)\n",
    "yf_pred_l1_smote=pipeline.predict(X_test)\n",
    "yf_accuracy_l1_smote=accuracy_score(yf_pred_l1_smote, yf_test)\n",
    "\n",
    "pipeline = Pipeline([\n",
    "    ('smote', SMOTE(random_state=0)),\n",
    "    ('scaler', StandardScaler()),\n",
    "    ('classifier', LinearSVC(multi_class='ovr', penalty = \"l1\", loss='squared_hinge', dual='auto', max_iter=5000, C=20))\n",
    "])\n",
    "pipeline.fit(X_train, yg_train)\n",
    "yg_pred_l1_smote=pipeline.predict(X_test)\n",
    "yg_accuracy_l1_smote=accuracy_score(yg_pred_l1_smote, yg_test)\n",
    "\n",
    "pipeline = Pipeline([\n",
    "    ('smote', SMOTE(random_state=0)),\n",
    "    ('scaler', StandardScaler()),\n",
    "    ('classifier', LinearSVC(multi_class='ovr', penalty = \"l1\", loss='squared_hinge', dual='auto', max_iter=5000, C=0.1))\n",
    "])\n",
    "pipeline.fit(X_train, ys_train)\n",
    "ys_pred_l1_smote=pipeline.predict(X_test)\n",
    "ys_accuracy_l1_smote=accuracy_score(ys_pred_l1_smote, ys_test)\n",
    "\n",
    "all_correct_family = (yf_test == yf_pred_l1_smote)\n",
    "all_correct_genus = (yg_test == yg_pred_l1_smote)\n",
    "all_correct_species = (ys_test == ys_pred_l1_smote)"
   ]
  },
  {
   "cell_type": "code",
   "execution_count": 214,
   "metadata": {},
   "outputs": [
    {
     "name": "stdout",
     "output_type": "stream",
     "text": [
      "Hamming loss: 0.0694766095414544\n",
      "Exact Match Accuracy: 0.8615099583140343\n"
     ]
    }
   ],
   "source": [
    "hamming_loss_l1_smote=1-(yf_accuracy_l1_smote+yg_accuracy_l1_smote+ys_accuracy_l1_smote)/3\n",
    "print(f'Hamming loss: {hamming_loss_l1_smote}')\n",
    "\n",
    "exact_match_accuracy_l1_smote = np.mean(all_correct_family & all_correct_genus & all_correct_species)\n",
    "print(f'Exact Match Accuracy: {exact_match_accuracy_l1_smote}')"
   ]
  },
  {
   "cell_type": "markdown",
   "metadata": {},
   "source": [
    "In this specific case, using smote didn't improved the overall model performance. The penalty paramater changed because the use of smote."
   ]
  },
  {
   "cell_type": "code",
   "execution_count": null,
   "metadata": {},
   "outputs": [],
   "source": []
  },
  {
   "cell_type": "markdown",
   "metadata": {},
   "source": [
    "## 2. K-Means Clustering on a Multi-Class and Multi-Label Data Set"
   ]
  },
  {
   "cell_type": "markdown",
   "metadata": {},
   "source": [
    "Monte-Carlo Simulation: Perform the following procedures 50 times, and report the average and standard deviation of the 50 Hamming Distances that you calculate.\n"
   ]
  },
  {
   "cell_type": "markdown",
   "metadata": {},
   "source": [
    "(a) Use k-means clustering on the whole Anuran Calls (MFCCs) Data Set (do not split the data into train and test, as we are not performing supervised learning in this exercise). Choose k ∈ {1, 2, . . . , 50} automatically based on one of the methods provided in the slides (CH or Gap Statistics or scree plots or Silhouettes) or any other method you know."
   ]
  },
  {
   "cell_type": "markdown",
   "metadata": {},
   "source": [
    "(b) In each cluster, determine which family is the majority by reading the true labels. Repeat for genus and species.\n",
    "\n",
    "(c) Now for each cluster you have a majority label triplet (family, genus, species). Calculate the average Hamming distance, Hamming score, and Hamming loss between the true labels and the labels assigned by clusters."
   ]
  },
  {
   "cell_type": "code",
   "execution_count": 202,
   "metadata": {},
   "outputs": [],
   "source": [
    "X_data = data.iloc[:,:-4]\n",
    "y_data = data.iloc[:,-3:]"
   ]
  },
  {
   "cell_type": "code",
   "execution_count": 238,
   "metadata": {},
   "outputs": [
    {
     "name": "stdout",
     "output_type": "stream",
     "text": [
      "Best k 1: 4\n",
      "----------------- Monte-Carlo 1 finished -----------------\n"
     ]
    },
    {
     "name": "stderr",
     "output_type": "stream",
     "text": [
      "c:\\Users\\云忆\\AppData\\Local\\Programs\\Python\\Python38\\lib\\site-packages\\sklearn\\cluster\\_kmeans.py:1416: FutureWarning: The default value of `n_init` will change from 10 to 'auto' in 1.4. Set the value of `n_init` explicitly to suppress the warning\n",
      "  super()._check_params_vs_input(X, default_n_init=10)\n"
     ]
    },
    {
     "name": "stdout",
     "output_type": "stream",
     "text": [
      "Best k 2: 4\n",
      "----------------- Monte-Carlo 2 finished -----------------\n"
     ]
    },
    {
     "name": "stderr",
     "output_type": "stream",
     "text": [
      "c:\\Users\\云忆\\AppData\\Local\\Programs\\Python\\Python38\\lib\\site-packages\\sklearn\\cluster\\_kmeans.py:1416: FutureWarning: The default value of `n_init` will change from 10 to 'auto' in 1.4. Set the value of `n_init` explicitly to suppress the warning\n",
      "  super()._check_params_vs_input(X, default_n_init=10)\n"
     ]
    },
    {
     "name": "stdout",
     "output_type": "stream",
     "text": [
      "Best k 3: 4\n",
      "----------------- Monte-Carlo 3 finished -----------------\n"
     ]
    },
    {
     "name": "stderr",
     "output_type": "stream",
     "text": [
      "c:\\Users\\云忆\\AppData\\Local\\Programs\\Python\\Python38\\lib\\site-packages\\sklearn\\cluster\\_kmeans.py:1416: FutureWarning: The default value of `n_init` will change from 10 to 'auto' in 1.4. Set the value of `n_init` explicitly to suppress the warning\n",
      "  super()._check_params_vs_input(X, default_n_init=10)\n"
     ]
    },
    {
     "name": "stdout",
     "output_type": "stream",
     "text": [
      "Best k 4: 4\n",
      "----------------- Monte-Carlo 4 finished -----------------\n"
     ]
    },
    {
     "name": "stderr",
     "output_type": "stream",
     "text": [
      "c:\\Users\\云忆\\AppData\\Local\\Programs\\Python\\Python38\\lib\\site-packages\\sklearn\\cluster\\_kmeans.py:1416: FutureWarning: The default value of `n_init` will change from 10 to 'auto' in 1.4. Set the value of `n_init` explicitly to suppress the warning\n",
      "  super()._check_params_vs_input(X, default_n_init=10)\n"
     ]
    },
    {
     "name": "stdout",
     "output_type": "stream",
     "text": [
      "Best k 5: 4\n",
      "----------------- Monte-Carlo 5 finished -----------------\n"
     ]
    },
    {
     "name": "stderr",
     "output_type": "stream",
     "text": [
      "c:\\Users\\云忆\\AppData\\Local\\Programs\\Python\\Python38\\lib\\site-packages\\sklearn\\cluster\\_kmeans.py:1416: FutureWarning: The default value of `n_init` will change from 10 to 'auto' in 1.4. Set the value of `n_init` explicitly to suppress the warning\n",
      "  super()._check_params_vs_input(X, default_n_init=10)\n"
     ]
    },
    {
     "name": "stdout",
     "output_type": "stream",
     "text": [
      "Best k 6: 4\n",
      "----------------- Monte-Carlo 6 finished -----------------\n"
     ]
    },
    {
     "name": "stderr",
     "output_type": "stream",
     "text": [
      "c:\\Users\\云忆\\AppData\\Local\\Programs\\Python\\Python38\\lib\\site-packages\\sklearn\\cluster\\_kmeans.py:1416: FutureWarning: The default value of `n_init` will change from 10 to 'auto' in 1.4. Set the value of `n_init` explicitly to suppress the warning\n",
      "  super()._check_params_vs_input(X, default_n_init=10)\n"
     ]
    },
    {
     "name": "stdout",
     "output_type": "stream",
     "text": [
      "Best k 7: 4\n"
     ]
    },
    {
     "name": "stderr",
     "output_type": "stream",
     "text": [
      "c:\\Users\\云忆\\AppData\\Local\\Programs\\Python\\Python38\\lib\\site-packages\\sklearn\\cluster\\_kmeans.py:1416: FutureWarning: The default value of `n_init` will change from 10 to 'auto' in 1.4. Set the value of `n_init` explicitly to suppress the warning\n",
      "  super()._check_params_vs_input(X, default_n_init=10)\n"
     ]
    },
    {
     "name": "stdout",
     "output_type": "stream",
     "text": [
      "----------------- Monte-Carlo 7 finished -----------------\n",
      "Best k 8: 4\n",
      "----------------- Monte-Carlo 8 finished -----------------\n"
     ]
    },
    {
     "name": "stderr",
     "output_type": "stream",
     "text": [
      "c:\\Users\\云忆\\AppData\\Local\\Programs\\Python\\Python38\\lib\\site-packages\\sklearn\\cluster\\_kmeans.py:1416: FutureWarning: The default value of `n_init` will change from 10 to 'auto' in 1.4. Set the value of `n_init` explicitly to suppress the warning\n",
      "  super()._check_params_vs_input(X, default_n_init=10)\n"
     ]
    },
    {
     "name": "stdout",
     "output_type": "stream",
     "text": [
      "Best k 9: 4\n",
      "----------------- Monte-Carlo 9 finished -----------------\n"
     ]
    },
    {
     "name": "stderr",
     "output_type": "stream",
     "text": [
      "c:\\Users\\云忆\\AppData\\Local\\Programs\\Python\\Python38\\lib\\site-packages\\sklearn\\cluster\\_kmeans.py:1416: FutureWarning: The default value of `n_init` will change from 10 to 'auto' in 1.4. Set the value of `n_init` explicitly to suppress the warning\n",
      "  super()._check_params_vs_input(X, default_n_init=10)\n"
     ]
    },
    {
     "name": "stdout",
     "output_type": "stream",
     "text": [
      "Best k 10: 4\n",
      "----------------- Monte-Carlo 10 finished -----------------\n"
     ]
    },
    {
     "name": "stderr",
     "output_type": "stream",
     "text": [
      "c:\\Users\\云忆\\AppData\\Local\\Programs\\Python\\Python38\\lib\\site-packages\\sklearn\\cluster\\_kmeans.py:1416: FutureWarning: The default value of `n_init` will change from 10 to 'auto' in 1.4. Set the value of `n_init` explicitly to suppress the warning\n",
      "  super()._check_params_vs_input(X, default_n_init=10)\n"
     ]
    },
    {
     "name": "stdout",
     "output_type": "stream",
     "text": [
      "Best k 11: 4\n",
      "----------------- Monte-Carlo 11 finished -----------------\n"
     ]
    },
    {
     "name": "stderr",
     "output_type": "stream",
     "text": [
      "c:\\Users\\云忆\\AppData\\Local\\Programs\\Python\\Python38\\lib\\site-packages\\sklearn\\cluster\\_kmeans.py:1416: FutureWarning: The default value of `n_init` will change from 10 to 'auto' in 1.4. Set the value of `n_init` explicitly to suppress the warning\n",
      "  super()._check_params_vs_input(X, default_n_init=10)\n"
     ]
    },
    {
     "name": "stdout",
     "output_type": "stream",
     "text": [
      "Best k 12: 4\n",
      "----------------- Monte-Carlo 12 finished -----------------\n"
     ]
    },
    {
     "name": "stderr",
     "output_type": "stream",
     "text": [
      "c:\\Users\\云忆\\AppData\\Local\\Programs\\Python\\Python38\\lib\\site-packages\\sklearn\\cluster\\_kmeans.py:1416: FutureWarning: The default value of `n_init` will change from 10 to 'auto' in 1.4. Set the value of `n_init` explicitly to suppress the warning\n",
      "  super()._check_params_vs_input(X, default_n_init=10)\n"
     ]
    },
    {
     "name": "stdout",
     "output_type": "stream",
     "text": [
      "Best k 13: 4\n",
      "----------------- Monte-Carlo 13 finished -----------------\n"
     ]
    },
    {
     "name": "stderr",
     "output_type": "stream",
     "text": [
      "c:\\Users\\云忆\\AppData\\Local\\Programs\\Python\\Python38\\lib\\site-packages\\sklearn\\cluster\\_kmeans.py:1416: FutureWarning: The default value of `n_init` will change from 10 to 'auto' in 1.4. Set the value of `n_init` explicitly to suppress the warning\n",
      "  super()._check_params_vs_input(X, default_n_init=10)\n"
     ]
    },
    {
     "name": "stdout",
     "output_type": "stream",
     "text": [
      "Best k 14: 4\n",
      "----------------- Monte-Carlo 14 finished -----------------\n"
     ]
    },
    {
     "name": "stderr",
     "output_type": "stream",
     "text": [
      "c:\\Users\\云忆\\AppData\\Local\\Programs\\Python\\Python38\\lib\\site-packages\\sklearn\\cluster\\_kmeans.py:1416: FutureWarning: The default value of `n_init` will change from 10 to 'auto' in 1.4. Set the value of `n_init` explicitly to suppress the warning\n",
      "  super()._check_params_vs_input(X, default_n_init=10)\n"
     ]
    },
    {
     "name": "stdout",
     "output_type": "stream",
     "text": [
      "Best k 15: 4\n",
      "----------------- Monte-Carlo 15 finished -----------------\n"
     ]
    },
    {
     "name": "stderr",
     "output_type": "stream",
     "text": [
      "c:\\Users\\云忆\\AppData\\Local\\Programs\\Python\\Python38\\lib\\site-packages\\sklearn\\cluster\\_kmeans.py:1416: FutureWarning: The default value of `n_init` will change from 10 to 'auto' in 1.4. Set the value of `n_init` explicitly to suppress the warning\n",
      "  super()._check_params_vs_input(X, default_n_init=10)\n"
     ]
    },
    {
     "name": "stdout",
     "output_type": "stream",
     "text": [
      "Best k 16: 4\n",
      "----------------- Monte-Carlo 16 finished -----------------\n"
     ]
    },
    {
     "name": "stderr",
     "output_type": "stream",
     "text": [
      "c:\\Users\\云忆\\AppData\\Local\\Programs\\Python\\Python38\\lib\\site-packages\\sklearn\\cluster\\_kmeans.py:1416: FutureWarning: The default value of `n_init` will change from 10 to 'auto' in 1.4. Set the value of `n_init` explicitly to suppress the warning\n",
      "  super()._check_params_vs_input(X, default_n_init=10)\n"
     ]
    },
    {
     "name": "stdout",
     "output_type": "stream",
     "text": [
      "Best k 17: 4\n",
      "----------------- Monte-Carlo 17 finished -----------------\n"
     ]
    },
    {
     "name": "stderr",
     "output_type": "stream",
     "text": [
      "c:\\Users\\云忆\\AppData\\Local\\Programs\\Python\\Python38\\lib\\site-packages\\sklearn\\cluster\\_kmeans.py:1416: FutureWarning: The default value of `n_init` will change from 10 to 'auto' in 1.4. Set the value of `n_init` explicitly to suppress the warning\n",
      "  super()._check_params_vs_input(X, default_n_init=10)\n"
     ]
    },
    {
     "name": "stdout",
     "output_type": "stream",
     "text": [
      "Best k 18: 4\n",
      "----------------- Monte-Carlo 18 finished -----------------\n"
     ]
    },
    {
     "name": "stderr",
     "output_type": "stream",
     "text": [
      "c:\\Users\\云忆\\AppData\\Local\\Programs\\Python\\Python38\\lib\\site-packages\\sklearn\\cluster\\_kmeans.py:1416: FutureWarning: The default value of `n_init` will change from 10 to 'auto' in 1.4. Set the value of `n_init` explicitly to suppress the warning\n",
      "  super()._check_params_vs_input(X, default_n_init=10)\n"
     ]
    },
    {
     "name": "stdout",
     "output_type": "stream",
     "text": [
      "Best k 19: 4\n",
      "----------------- Monte-Carlo 19 finished -----------------\n"
     ]
    },
    {
     "name": "stderr",
     "output_type": "stream",
     "text": [
      "c:\\Users\\云忆\\AppData\\Local\\Programs\\Python\\Python38\\lib\\site-packages\\sklearn\\cluster\\_kmeans.py:1416: FutureWarning: The default value of `n_init` will change from 10 to 'auto' in 1.4. Set the value of `n_init` explicitly to suppress the warning\n",
      "  super()._check_params_vs_input(X, default_n_init=10)\n"
     ]
    },
    {
     "name": "stdout",
     "output_type": "stream",
     "text": [
      "Best k 20: 4\n",
      "----------------- Monte-Carlo 20 finished -----------------\n"
     ]
    },
    {
     "name": "stderr",
     "output_type": "stream",
     "text": [
      "c:\\Users\\云忆\\AppData\\Local\\Programs\\Python\\Python38\\lib\\site-packages\\sklearn\\cluster\\_kmeans.py:1416: FutureWarning: The default value of `n_init` will change from 10 to 'auto' in 1.4. Set the value of `n_init` explicitly to suppress the warning\n",
      "  super()._check_params_vs_input(X, default_n_init=10)\n"
     ]
    },
    {
     "name": "stdout",
     "output_type": "stream",
     "text": [
      "Best k 21: 4\n",
      "----------------- Monte-Carlo 21 finished -----------------\n"
     ]
    },
    {
     "name": "stderr",
     "output_type": "stream",
     "text": [
      "c:\\Users\\云忆\\AppData\\Local\\Programs\\Python\\Python38\\lib\\site-packages\\sklearn\\cluster\\_kmeans.py:1416: FutureWarning: The default value of `n_init` will change from 10 to 'auto' in 1.4. Set the value of `n_init` explicitly to suppress the warning\n",
      "  super()._check_params_vs_input(X, default_n_init=10)\n"
     ]
    },
    {
     "name": "stdout",
     "output_type": "stream",
     "text": [
      "Best k 22: 4\n",
      "----------------- Monte-Carlo 22 finished -----------------\n"
     ]
    },
    {
     "name": "stderr",
     "output_type": "stream",
     "text": [
      "c:\\Users\\云忆\\AppData\\Local\\Programs\\Python\\Python38\\lib\\site-packages\\sklearn\\cluster\\_kmeans.py:1416: FutureWarning: The default value of `n_init` will change from 10 to 'auto' in 1.4. Set the value of `n_init` explicitly to suppress the warning\n",
      "  super()._check_params_vs_input(X, default_n_init=10)\n"
     ]
    },
    {
     "name": "stdout",
     "output_type": "stream",
     "text": [
      "Best k 23: 4\n",
      "----------------- Monte-Carlo 23 finished -----------------\n"
     ]
    },
    {
     "name": "stderr",
     "output_type": "stream",
     "text": [
      "c:\\Users\\云忆\\AppData\\Local\\Programs\\Python\\Python38\\lib\\site-packages\\sklearn\\cluster\\_kmeans.py:1416: FutureWarning: The default value of `n_init` will change from 10 to 'auto' in 1.4. Set the value of `n_init` explicitly to suppress the warning\n",
      "  super()._check_params_vs_input(X, default_n_init=10)\n"
     ]
    },
    {
     "name": "stdout",
     "output_type": "stream",
     "text": [
      "Best k 24: 4\n",
      "----------------- Monte-Carlo 24 finished -----------------\n"
     ]
    },
    {
     "name": "stderr",
     "output_type": "stream",
     "text": [
      "c:\\Users\\云忆\\AppData\\Local\\Programs\\Python\\Python38\\lib\\site-packages\\sklearn\\cluster\\_kmeans.py:1416: FutureWarning: The default value of `n_init` will change from 10 to 'auto' in 1.4. Set the value of `n_init` explicitly to suppress the warning\n",
      "  super()._check_params_vs_input(X, default_n_init=10)\n"
     ]
    },
    {
     "name": "stdout",
     "output_type": "stream",
     "text": [
      "Best k 25: 4\n",
      "----------------- Monte-Carlo 25 finished -----------------\n"
     ]
    },
    {
     "name": "stderr",
     "output_type": "stream",
     "text": [
      "c:\\Users\\云忆\\AppData\\Local\\Programs\\Python\\Python38\\lib\\site-packages\\sklearn\\cluster\\_kmeans.py:1416: FutureWarning: The default value of `n_init` will change from 10 to 'auto' in 1.4. Set the value of `n_init` explicitly to suppress the warning\n",
      "  super()._check_params_vs_input(X, default_n_init=10)\n"
     ]
    },
    {
     "name": "stdout",
     "output_type": "stream",
     "text": [
      "Best k 26: 4\n"
     ]
    },
    {
     "name": "stderr",
     "output_type": "stream",
     "text": [
      "c:\\Users\\云忆\\AppData\\Local\\Programs\\Python\\Python38\\lib\\site-packages\\sklearn\\cluster\\_kmeans.py:1416: FutureWarning: The default value of `n_init` will change from 10 to 'auto' in 1.4. Set the value of `n_init` explicitly to suppress the warning\n",
      "  super()._check_params_vs_input(X, default_n_init=10)\n"
     ]
    },
    {
     "name": "stdout",
     "output_type": "stream",
     "text": [
      "----------------- Monte-Carlo 26 finished -----------------\n",
      "Best k 27: 4\n",
      "----------------- Monte-Carlo 27 finished -----------------\n"
     ]
    },
    {
     "name": "stderr",
     "output_type": "stream",
     "text": [
      "c:\\Users\\云忆\\AppData\\Local\\Programs\\Python\\Python38\\lib\\site-packages\\sklearn\\cluster\\_kmeans.py:1416: FutureWarning: The default value of `n_init` will change from 10 to 'auto' in 1.4. Set the value of `n_init` explicitly to suppress the warning\n",
      "  super()._check_params_vs_input(X, default_n_init=10)\n"
     ]
    },
    {
     "name": "stdout",
     "output_type": "stream",
     "text": [
      "Best k 28: 4\n",
      "----------------- Monte-Carlo 28 finished -----------------\n"
     ]
    },
    {
     "name": "stderr",
     "output_type": "stream",
     "text": [
      "c:\\Users\\云忆\\AppData\\Local\\Programs\\Python\\Python38\\lib\\site-packages\\sklearn\\cluster\\_kmeans.py:1416: FutureWarning: The default value of `n_init` will change from 10 to 'auto' in 1.4. Set the value of `n_init` explicitly to suppress the warning\n",
      "  super()._check_params_vs_input(X, default_n_init=10)\n"
     ]
    },
    {
     "name": "stdout",
     "output_type": "stream",
     "text": [
      "Best k 29: 4\n",
      "----------------- Monte-Carlo 29 finished -----------------\n"
     ]
    },
    {
     "name": "stderr",
     "output_type": "stream",
     "text": [
      "c:\\Users\\云忆\\AppData\\Local\\Programs\\Python\\Python38\\lib\\site-packages\\sklearn\\cluster\\_kmeans.py:1416: FutureWarning: The default value of `n_init` will change from 10 to 'auto' in 1.4. Set the value of `n_init` explicitly to suppress the warning\n",
      "  super()._check_params_vs_input(X, default_n_init=10)\n"
     ]
    },
    {
     "name": "stdout",
     "output_type": "stream",
     "text": [
      "Best k 30: 4\n",
      "----------------- Monte-Carlo 30 finished -----------------\n"
     ]
    },
    {
     "name": "stderr",
     "output_type": "stream",
     "text": [
      "c:\\Users\\云忆\\AppData\\Local\\Programs\\Python\\Python38\\lib\\site-packages\\sklearn\\cluster\\_kmeans.py:1416: FutureWarning: The default value of `n_init` will change from 10 to 'auto' in 1.4. Set the value of `n_init` explicitly to suppress the warning\n",
      "  super()._check_params_vs_input(X, default_n_init=10)\n"
     ]
    },
    {
     "name": "stdout",
     "output_type": "stream",
     "text": [
      "Best k 31: 4\n"
     ]
    },
    {
     "name": "stderr",
     "output_type": "stream",
     "text": [
      "c:\\Users\\云忆\\AppData\\Local\\Programs\\Python\\Python38\\lib\\site-packages\\sklearn\\cluster\\_kmeans.py:1416: FutureWarning: The default value of `n_init` will change from 10 to 'auto' in 1.4. Set the value of `n_init` explicitly to suppress the warning\n",
      "  super()._check_params_vs_input(X, default_n_init=10)\n"
     ]
    },
    {
     "name": "stdout",
     "output_type": "stream",
     "text": [
      "----------------- Monte-Carlo 31 finished -----------------\n",
      "Best k 32: 4\n",
      "----------------- Monte-Carlo 32 finished -----------------\n"
     ]
    },
    {
     "name": "stderr",
     "output_type": "stream",
     "text": [
      "c:\\Users\\云忆\\AppData\\Local\\Programs\\Python\\Python38\\lib\\site-packages\\sklearn\\cluster\\_kmeans.py:1416: FutureWarning: The default value of `n_init` will change from 10 to 'auto' in 1.4. Set the value of `n_init` explicitly to suppress the warning\n",
      "  super()._check_params_vs_input(X, default_n_init=10)\n"
     ]
    },
    {
     "name": "stdout",
     "output_type": "stream",
     "text": [
      "Best k 33: 4\n",
      "----------------- Monte-Carlo 33 finished -----------------\n"
     ]
    },
    {
     "name": "stderr",
     "output_type": "stream",
     "text": [
      "c:\\Users\\云忆\\AppData\\Local\\Programs\\Python\\Python38\\lib\\site-packages\\sklearn\\cluster\\_kmeans.py:1416: FutureWarning: The default value of `n_init` will change from 10 to 'auto' in 1.4. Set the value of `n_init` explicitly to suppress the warning\n",
      "  super()._check_params_vs_input(X, default_n_init=10)\n"
     ]
    },
    {
     "name": "stdout",
     "output_type": "stream",
     "text": [
      "Best k 34: 4\n",
      "----------------- Monte-Carlo 34 finished -----------------\n"
     ]
    },
    {
     "name": "stderr",
     "output_type": "stream",
     "text": [
      "c:\\Users\\云忆\\AppData\\Local\\Programs\\Python\\Python38\\lib\\site-packages\\sklearn\\cluster\\_kmeans.py:1416: FutureWarning: The default value of `n_init` will change from 10 to 'auto' in 1.4. Set the value of `n_init` explicitly to suppress the warning\n",
      "  super()._check_params_vs_input(X, default_n_init=10)\n"
     ]
    },
    {
     "name": "stdout",
     "output_type": "stream",
     "text": [
      "Best k 35: 4\n",
      "----------------- Monte-Carlo 35 finished -----------------\n"
     ]
    },
    {
     "name": "stderr",
     "output_type": "stream",
     "text": [
      "c:\\Users\\云忆\\AppData\\Local\\Programs\\Python\\Python38\\lib\\site-packages\\sklearn\\cluster\\_kmeans.py:1416: FutureWarning: The default value of `n_init` will change from 10 to 'auto' in 1.4. Set the value of `n_init` explicitly to suppress the warning\n",
      "  super()._check_params_vs_input(X, default_n_init=10)\n"
     ]
    },
    {
     "name": "stdout",
     "output_type": "stream",
     "text": [
      "Best k 36: 4\n",
      "----------------- Monte-Carlo 36 finished -----------------\n"
     ]
    },
    {
     "name": "stderr",
     "output_type": "stream",
     "text": [
      "c:\\Users\\云忆\\AppData\\Local\\Programs\\Python\\Python38\\lib\\site-packages\\sklearn\\cluster\\_kmeans.py:1416: FutureWarning: The default value of `n_init` will change from 10 to 'auto' in 1.4. Set the value of `n_init` explicitly to suppress the warning\n",
      "  super()._check_params_vs_input(X, default_n_init=10)\n"
     ]
    },
    {
     "name": "stdout",
     "output_type": "stream",
     "text": [
      "Best k 37: 4\n",
      "----------------- Monte-Carlo 37 finished -----------------\n"
     ]
    },
    {
     "name": "stderr",
     "output_type": "stream",
     "text": [
      "c:\\Users\\云忆\\AppData\\Local\\Programs\\Python\\Python38\\lib\\site-packages\\sklearn\\cluster\\_kmeans.py:1416: FutureWarning: The default value of `n_init` will change from 10 to 'auto' in 1.4. Set the value of `n_init` explicitly to suppress the warning\n",
      "  super()._check_params_vs_input(X, default_n_init=10)\n"
     ]
    },
    {
     "name": "stdout",
     "output_type": "stream",
     "text": [
      "Best k 38: 4\n",
      "----------------- Monte-Carlo 38 finished -----------------\n"
     ]
    },
    {
     "name": "stderr",
     "output_type": "stream",
     "text": [
      "c:\\Users\\云忆\\AppData\\Local\\Programs\\Python\\Python38\\lib\\site-packages\\sklearn\\cluster\\_kmeans.py:1416: FutureWarning: The default value of `n_init` will change from 10 to 'auto' in 1.4. Set the value of `n_init` explicitly to suppress the warning\n",
      "  super()._check_params_vs_input(X, default_n_init=10)\n"
     ]
    },
    {
     "name": "stdout",
     "output_type": "stream",
     "text": [
      "Best k 39: 4\n",
      "----------------- Monte-Carlo 39 finished -----------------\n"
     ]
    },
    {
     "name": "stderr",
     "output_type": "stream",
     "text": [
      "c:\\Users\\云忆\\AppData\\Local\\Programs\\Python\\Python38\\lib\\site-packages\\sklearn\\cluster\\_kmeans.py:1416: FutureWarning: The default value of `n_init` will change from 10 to 'auto' in 1.4. Set the value of `n_init` explicitly to suppress the warning\n",
      "  super()._check_params_vs_input(X, default_n_init=10)\n"
     ]
    },
    {
     "name": "stdout",
     "output_type": "stream",
     "text": [
      "Best k 40: 4\n",
      "----------------- Monte-Carlo 40 finished -----------------\n"
     ]
    },
    {
     "name": "stderr",
     "output_type": "stream",
     "text": [
      "c:\\Users\\云忆\\AppData\\Local\\Programs\\Python\\Python38\\lib\\site-packages\\sklearn\\cluster\\_kmeans.py:1416: FutureWarning: The default value of `n_init` will change from 10 to 'auto' in 1.4. Set the value of `n_init` explicitly to suppress the warning\n",
      "  super()._check_params_vs_input(X, default_n_init=10)\n"
     ]
    },
    {
     "name": "stdout",
     "output_type": "stream",
     "text": [
      "Best k 41: 4\n",
      "----------------- Monte-Carlo 41 finished -----------------\n"
     ]
    },
    {
     "name": "stderr",
     "output_type": "stream",
     "text": [
      "c:\\Users\\云忆\\AppData\\Local\\Programs\\Python\\Python38\\lib\\site-packages\\sklearn\\cluster\\_kmeans.py:1416: FutureWarning: The default value of `n_init` will change from 10 to 'auto' in 1.4. Set the value of `n_init` explicitly to suppress the warning\n",
      "  super()._check_params_vs_input(X, default_n_init=10)\n"
     ]
    },
    {
     "name": "stdout",
     "output_type": "stream",
     "text": [
      "Best k 42: 4\n",
      "----------------- Monte-Carlo 42 finished -----------------\n"
     ]
    },
    {
     "name": "stderr",
     "output_type": "stream",
     "text": [
      "c:\\Users\\云忆\\AppData\\Local\\Programs\\Python\\Python38\\lib\\site-packages\\sklearn\\cluster\\_kmeans.py:1416: FutureWarning: The default value of `n_init` will change from 10 to 'auto' in 1.4. Set the value of `n_init` explicitly to suppress the warning\n",
      "  super()._check_params_vs_input(X, default_n_init=10)\n"
     ]
    },
    {
     "name": "stdout",
     "output_type": "stream",
     "text": [
      "Best k 43: 4\n",
      "----------------- Monte-Carlo 43 finished -----------------\n"
     ]
    },
    {
     "name": "stderr",
     "output_type": "stream",
     "text": [
      "c:\\Users\\云忆\\AppData\\Local\\Programs\\Python\\Python38\\lib\\site-packages\\sklearn\\cluster\\_kmeans.py:1416: FutureWarning: The default value of `n_init` will change from 10 to 'auto' in 1.4. Set the value of `n_init` explicitly to suppress the warning\n",
      "  super()._check_params_vs_input(X, default_n_init=10)\n"
     ]
    },
    {
     "name": "stdout",
     "output_type": "stream",
     "text": [
      "Best k 44: 4\n",
      "----------------- Monte-Carlo 44 finished -----------------\n"
     ]
    },
    {
     "name": "stderr",
     "output_type": "stream",
     "text": [
      "c:\\Users\\云忆\\AppData\\Local\\Programs\\Python\\Python38\\lib\\site-packages\\sklearn\\cluster\\_kmeans.py:1416: FutureWarning: The default value of `n_init` will change from 10 to 'auto' in 1.4. Set the value of `n_init` explicitly to suppress the warning\n",
      "  super()._check_params_vs_input(X, default_n_init=10)\n"
     ]
    },
    {
     "name": "stdout",
     "output_type": "stream",
     "text": [
      "Best k 45: 4\n",
      "----------------- Monte-Carlo 45 finished -----------------\n"
     ]
    },
    {
     "name": "stderr",
     "output_type": "stream",
     "text": [
      "c:\\Users\\云忆\\AppData\\Local\\Programs\\Python\\Python38\\lib\\site-packages\\sklearn\\cluster\\_kmeans.py:1416: FutureWarning: The default value of `n_init` will change from 10 to 'auto' in 1.4. Set the value of `n_init` explicitly to suppress the warning\n",
      "  super()._check_params_vs_input(X, default_n_init=10)\n"
     ]
    },
    {
     "name": "stdout",
     "output_type": "stream",
     "text": [
      "Best k 46: 4\n",
      "----------------- Monte-Carlo 46 finished -----------------\n"
     ]
    },
    {
     "name": "stderr",
     "output_type": "stream",
     "text": [
      "c:\\Users\\云忆\\AppData\\Local\\Programs\\Python\\Python38\\lib\\site-packages\\sklearn\\cluster\\_kmeans.py:1416: FutureWarning: The default value of `n_init` will change from 10 to 'auto' in 1.4. Set the value of `n_init` explicitly to suppress the warning\n",
      "  super()._check_params_vs_input(X, default_n_init=10)\n"
     ]
    },
    {
     "name": "stdout",
     "output_type": "stream",
     "text": [
      "Best k 47: 4\n",
      "----------------- Monte-Carlo 47 finished -----------------\n"
     ]
    },
    {
     "name": "stderr",
     "output_type": "stream",
     "text": [
      "c:\\Users\\云忆\\AppData\\Local\\Programs\\Python\\Python38\\lib\\site-packages\\sklearn\\cluster\\_kmeans.py:1416: FutureWarning: The default value of `n_init` will change from 10 to 'auto' in 1.4. Set the value of `n_init` explicitly to suppress the warning\n",
      "  super()._check_params_vs_input(X, default_n_init=10)\n"
     ]
    },
    {
     "name": "stdout",
     "output_type": "stream",
     "text": [
      "Best k 48: 4\n",
      "----------------- Monte-Carlo 48 finished -----------------\n"
     ]
    },
    {
     "name": "stderr",
     "output_type": "stream",
     "text": [
      "c:\\Users\\云忆\\AppData\\Local\\Programs\\Python\\Python38\\lib\\site-packages\\sklearn\\cluster\\_kmeans.py:1416: FutureWarning: The default value of `n_init` will change from 10 to 'auto' in 1.4. Set the value of `n_init` explicitly to suppress the warning\n",
      "  super()._check_params_vs_input(X, default_n_init=10)\n"
     ]
    },
    {
     "name": "stdout",
     "output_type": "stream",
     "text": [
      "Best k 49: 4\n",
      "----------------- Monte-Carlo 49 finished -----------------\n"
     ]
    },
    {
     "name": "stderr",
     "output_type": "stream",
     "text": [
      "c:\\Users\\云忆\\AppData\\Local\\Programs\\Python\\Python38\\lib\\site-packages\\sklearn\\cluster\\_kmeans.py:1416: FutureWarning: The default value of `n_init` will change from 10 to 'auto' in 1.4. Set the value of `n_init` explicitly to suppress the warning\n",
      "  super()._check_params_vs_input(X, default_n_init=10)\n"
     ]
    },
    {
     "name": "stdout",
     "output_type": "stream",
     "text": [
      "Best k 50: 4\n",
      "----------------- Monte-Carlo 50 finished -----------------\n"
     ]
    },
    {
     "name": "stderr",
     "output_type": "stream",
     "text": [
      "c:\\Users\\云忆\\AppData\\Local\\Programs\\Python\\Python38\\lib\\site-packages\\sklearn\\cluster\\_kmeans.py:1416: FutureWarning: The default value of `n_init` will change from 10 to 'auto' in 1.4. Set the value of `n_init` explicitly to suppress the warning\n",
      "  super()._check_params_vs_input(X, default_n_init=10)\n"
     ]
    }
   ],
   "source": [
    "hamming_loss_list = []\n",
    "hamming_score_list = []\n",
    "hamming_distances_list=[]\n",
    "\n",
    "for i in range(50):\n",
    "    #Use this to save pred results\n",
    "    predictions_df = pd.DataFrame({\n",
    "        'Family_Predicted': np.nan,\n",
    "        'Genus_Predicted': np.nan,\n",
    "        'Species_Predicted': np.nan\n",
    "    }, index=range(len(data)))\n",
    "\n",
    "    #(a)\n",
    "    silhouette_scores = []\n",
    "    k_values = range(2, 51)\n",
    "    for k in k_values:\n",
    "        random_state = np.random.randint(1000)\n",
    "        kmeans = KMeans(n_clusters=k, random_state=random_state, n_init=10)\n",
    "        labels = kmeans.fit_predict(X_data)\n",
    "        silhouette_scores.append((k, silhouette_score(X_data, labels)))\n",
    "\n",
    "    best_k = max(silhouette_scores, key=lambda x: x[1])[0]\n",
    "    print(f'Best k {i+1}: {best_k}')\n",
    "\n",
    "    random_state = np.random.randint(1000)\n",
    "    kmeans = KMeans(n_clusters=best_k, random_state=random_state)\n",
    "    cluster_labels = kmeans.fit_predict(X_data)\n",
    "\n",
    "    #(b)\n",
    "    majority_labels = []\n",
    "    for cluster_id in range(best_k):\n",
    "        cluster_mask = (cluster_labels == cluster_id)\n",
    "        majority_family = y_data.loc[cluster_mask, 'Family_Encoded'].mode().iloc[0]\n",
    "        predictions_df.loc[cluster_mask, 'Family_pred'] = majority_family\n",
    "\n",
    "        majority_genus = y_data.loc[cluster_mask, 'Genus_Encoded'].mode().iloc[0]\n",
    "        predictions_df.loc[cluster_mask, 'Genus_pred'] = majority_genus\n",
    "\n",
    "        majority_species = y_data.loc[cluster_mask, 'Species_Encoded'].mode().iloc[0]\n",
    "        predictions_df.loc[cluster_mask, 'Species_pred'] = majority_species\n",
    "\n",
    "    hamming_score_family = accuracy_score(y_data['Family_Encoded'], predictions_df['Family_pred'])\n",
    "    hamming_score_genus = accuracy_score(y_data['Genus_Encoded'], predictions_df['Genus_pred'])\n",
    "    hamming_score_species = accuracy_score(y_data['Species_Encoded'], predictions_df['Species_pred'])\n",
    "\n",
    "    hamming_score = np.mean([hamming_score_family, hamming_score_genus, hamming_score_species])\n",
    "    hamming_score_list.append(hamming_score)\n",
    "\n",
    "    hamming_loss = 1-np.mean([hamming_score_family, hamming_score_genus, hamming_score_species])\n",
    "    hamming_loss_list.append(hamming_loss)\n",
    "\n",
    "    all_correct_family = (y_data['Family_Encoded'] == predictions_df['Family_pred'])\n",
    "    all_correct_genus = (y_data['Genus_Encoded'] == predictions_df['Genus_pred'])\n",
    "    all_correct_species = (y_data['Species_Encoded'] == predictions_df['Species_pred'])\n",
    "\n",
    "    hamming_distance = len(data)-np.sum(all_correct_family & all_correct_genus & all_correct_species)\n",
    "    hamming_distances_list.append(hamming_distance)\n",
    "\n",
    "    print(f'----------------- Monte-Carlo {i+1} finished -----------------')"
   ]
  },
  {
   "cell_type": "code",
   "execution_count": 241,
   "metadata": {},
   "outputs": [
    {
     "name": "stdout",
     "output_type": "stream",
     "text": [
      "Average Hamming Score across clusters: 0.7762362751911049\n",
      "Average Hamming Loss across clusters: 0.223763724808895\n",
      "Average Hamming Distance across clusters: 1790.18\n"
     ]
    }
   ],
   "source": [
    "print(f'Average Hamming Score across clusters: {np.mean(hamming_score_list)}')\n",
    "print(f'Average Hamming Loss across clusters: {np.mean(hamming_loss_list)}')\n",
    "print(f'Average Hamming Distance across clusters: {np.mean(hamming_distances_list)}')"
   ]
  },
  {
   "cell_type": "markdown",
   "metadata": {},
   "source": [
    "## ISLR 12.6.2"
   ]
  },
  {
   "cell_type": "markdown",
   "metadata": {},
   "source": [
    "(a)"
   ]
  },
  {
   "cell_type": "code",
   "execution_count": 257,
   "metadata": {},
   "outputs": [],
   "source": [
    "data = np.array([0.3, 0.4, 0.7, 0.5, 0.8, 0.45])"
   ]
  },
  {
   "cell_type": "code",
   "execution_count": 259,
   "metadata": {},
   "outputs": [
    {
     "data": {
      "image/png": "[encoded data removed]",
      "text/plain": [
       "<Figure size 800x600 with 1 Axes>"
      ]
     },
     "metadata": {},
     "output_type": "display_data"
    }
   ],
   "source": [
    "linkage_matrix = linkage(data, method='complete')\n",
    "\n",
    "plt.figure(figsize=(8, 6))\n",
    "dendrogram(linkage_matrix)\n",
    "plt.title('Hierarchical Clustering Dendrogram')\n",
    "plt.xlabel('Data Points')\n",
    "plt.ylabel('Distance')\n",
    "plt.show()"
   ]
  },
  {
   "cell_type": "markdown",
   "metadata": {},
   "source": [
    "(b)"
   ]
  },
  {
   "cell_type": "code",
   "execution_count": 260,
   "metadata": {},
   "outputs": [
    {
     "data": {
      "image/png": "[encoded data removed]",
      "text/plain": [
       "<Figure size 800x600 with 1 Axes>"
      ]
     },
     "metadata": {},
     "output_type": "display_data"
    }
   ],
   "source": [
    "linkage_matrix = linkage(data, method='single')\n",
    "\n",
    "plt.figure(figsize=(8, 6))\n",
    "dendrogram(linkage_matrix)\n",
    "plt.title('Hierarchical Clustering Dendrogram')\n",
    "plt.xlabel('Data Points')\n",
    "plt.ylabel('Distance')\n",
    "plt.show()"
   ]
  },
  {
   "cell_type": "markdown",
   "metadata": {},
   "source": [
    "(c) We have clusters (0,1) and (2,3)."
   ]
  },
  {
   "cell_type": "markdown",
   "metadata": {},
   "source": [
    "(d) We have clusters (3) and ((0,1),2)."
   ]
  },
  {
   "cell_type": "markdown",
   "metadata": {},
   "source": [
    "(e) "
   ]
  },
  {
   "cell_type": "code",
   "execution_count": 263,
   "metadata": {},
   "outputs": [
    {
     "data": {
      "image/png": "[encoded data removed]",
      "text/plain": [
       "<Figure size 800x600 with 1 Axes>"
      ]
     },
     "metadata": {},
     "output_type": "display_data"
    }
   ],
   "source": [
    "linkage_matrix = linkage(data, method='complete')\n",
    "original_labels = [f'Point {i}' for i in range(4)]\n",
    "\n",
    "Changed_labels = original_labels.copy()\n",
    "Changed_labels[0], Changed_labels[2] = Changed_labels[2], Changed_labels[0]\n",
    "\n",
    "# Plot the Changed dendrogram with repositioned leaves\n",
    "plt.figure(figsize=(8, 6))\n",
    "dendrogram(linkage_matrix, labels=Changed_labels)\n",
    "plt.title('Changed Hierarchical Clustering Dendrogram')\n",
    "plt.xlabel('Data Points')\n",
    "plt.ylabel('Distance')\n",
    "plt.show()"
   ]
  }
 ],
 "metadata": {
  "kernelspec": {
   "display_name": "Python 3",
   "language": "python",
   "name": "python3"
  },
  "language_info": {
   "codemirror_mode": {
    "name": "ipython",
    "version": 3
   },
   "file_extension": ".py",
   "mimetype": "text/x-python",
   "name": "python",
   "nbconvert_exporter": "python",
   "pygments_lexer": "ipython3",
   "version": "3.8.10"
  }
 },
 "nbformat": 4,
 "nbformat_minor": 2
}
